{
 "cells": [
  {
   "cell_type": "markdown",
   "metadata": {},
   "source": [
    "# WeatherPy\n",
    "----\n",
    "\n",
    "#### Note\n",
    "* Instructions have been included for each segment. You do not have to follow them exactly, but they are included to help you think through the steps."
   ]
  },
  {
   "cell_type": "code",
   "execution_count": 13,
   "metadata": {
    "scrolled": true
   },
   "outputs": [],
   "source": [
    "# Dependencies and Setup\n",
    "import matplotlib.pyplot as plt\n",
    "import pandas as pd\n",
    "import numpy as np\n",
    "import requests\n",
    "import time\n",
    "from scipy.stats import linregress\n",
    "\n",
    "# Import API key\n",
    "from api_keys import weather_api_key\n",
    "\n",
    "# Incorporated citipy to determine city based on latitude and longitude\n",
    "from citipy import citipy\n",
    "\n",
    "# Output File (CSV)\n",
    "output_data_file = \"../output_data/cities.csv\"\n",
    "\n",
    "# Range of latitudes and longitudes\n",
    "lat_range = (-90, 90)\n",
    "lng_range = (-180, 180)"
   ]
  },
  {
   "cell_type": "markdown",
   "metadata": {},
   "source": [
    "## Generate Cities List"
   ]
  },
  {
   "cell_type": "code",
   "execution_count": 14,
   "metadata": {},
   "outputs": [
    {
     "output_type": "execute_result",
     "data": {
      "text/plain": "632"
     },
     "metadata": {},
     "execution_count": 14
    }
   ],
   "source": [
    "# List for holding lat_lngs and cities\n",
    "lat_lngs = []\n",
    "cities = []\n",
    "units = \"imperial\"\n",
    "\n",
    "# Create a set of random lat and lng combinations\n",
    "lats = np.random.uniform(lat_range[0], lat_range[1], size=1500)\n",
    "lngs = np.random.uniform(lng_range[0], lng_range[1], size=1500)\n",
    "lat_lngs = zip(lats, lngs)\n",
    "\n",
    "# Identify nearest city for each lat, lng combination\n",
    "for lat_lng in lat_lngs:\n",
    "    city = citipy.nearest_city(lat_lng[0], lat_lng[1]).city_name\n",
    "    \n",
    "    # If the city is unique, then add it to a our cities list\n",
    "    if city not in cities:\n",
    "        cities.append(city)\n",
    "\n",
    "# Print the city count to confirm sufficient count\n",
    "len(cities)"
   ]
  },
  {
   "cell_type": "markdown",
   "metadata": {},
   "source": [
    "### Perform API Calls\n",
    "* Perform a weather check on each city using a series of successive API calls.\n",
    "* Include a print log of each city as it'sbeing processed (with the city number and city name).\n"
   ]
  },
  {
   "cell_type": "code",
   "execution_count": 4,
   "metadata": {},
   "outputs": [
    {
     "output_type": "execute_result",
     "data": {
      "text/plain": "   city_name city_longitude city_latitude max_temp humidity cloud_covg  \\\n0  tuatapere                                                             \n1  carnarvon                                                             \n2   goderich                                                             \n3     hasaki                                                             \n4     avarua                                                             \n\n  wind_speed city_country city_datetime  \n0                                        \n1                                        \n2                                        \n3                                        \n4                                        ",
      "text/html": "<div>\n<style scoped>\n    .dataframe tbody tr th:only-of-type {\n        vertical-align: middle;\n    }\n\n    .dataframe tbody tr th {\n        vertical-align: top;\n    }\n\n    .dataframe thead th {\n        text-align: right;\n    }\n</style>\n<table border=\"1\" class=\"dataframe\">\n  <thead>\n    <tr style=\"text-align: right;\">\n      <th></th>\n      <th>city_name</th>\n      <th>city_longitude</th>\n      <th>city_latitude</th>\n      <th>max_temp</th>\n      <th>humidity</th>\n      <th>cloud_covg</th>\n      <th>wind_speed</th>\n      <th>city_country</th>\n      <th>city_datetime</th>\n    </tr>\n  </thead>\n  <tbody>\n    <tr>\n      <th>0</th>\n      <td>tuatapere</td>\n      <td></td>\n      <td></td>\n      <td></td>\n      <td></td>\n      <td></td>\n      <td></td>\n      <td></td>\n      <td></td>\n    </tr>\n    <tr>\n      <th>1</th>\n      <td>carnarvon</td>\n      <td></td>\n      <td></td>\n      <td></td>\n      <td></td>\n      <td></td>\n      <td></td>\n      <td></td>\n      <td></td>\n    </tr>\n    <tr>\n      <th>2</th>\n      <td>goderich</td>\n      <td></td>\n      <td></td>\n      <td></td>\n      <td></td>\n      <td></td>\n      <td></td>\n      <td></td>\n      <td></td>\n    </tr>\n    <tr>\n      <th>3</th>\n      <td>hasaki</td>\n      <td></td>\n      <td></td>\n      <td></td>\n      <td></td>\n      <td></td>\n      <td></td>\n      <td></td>\n      <td></td>\n    </tr>\n    <tr>\n      <th>4</th>\n      <td>avarua</td>\n      <td></td>\n      <td></td>\n      <td></td>\n      <td></td>\n      <td></td>\n      <td></td>\n      <td></td>\n      <td></td>\n    </tr>\n  </tbody>\n</table>\n</div>"
     },
     "metadata": {},
     "execution_count": 4
    }
   ],
   "source": [
    "# city_df = pd.DataFrame(cities).rename(columns={0:\"city_name\"})\n",
    "# city_df['city_longitude'] = \"\"\n",
    "# city_df['city_latitude'] = \"\"\n",
    "# city_df['max_temp'] = \"\"\n",
    "# city_df['humidity'] = \"\"\n",
    "# city_df['cloud_covg'] = \"\"\n",
    "# city_df['wind_speed'] = \"\"\n",
    "# city_df['city_country'] = \"\"\n",
    "# city_df['city_datetime'] = \"\"\n",
    "# city_df.head()\n"
   ]
  },
  {
   "cell_type": "code",
   "execution_count": 15,
   "metadata": {},
   "outputs": [],
   "source": [
    "base_url = \"http://api.openweathermap.org/data/2.5/weather?\""
   ]
  },
  {
   "cell_type": "code",
   "execution_count": 5,
   "metadata": {
    "tags": []
   },
   "outputs": [],
   "source": [
    "# city_number = 0\n",
    "\n",
    "# for index, row in city_df.iterrows():\n",
    "#     c_name = row['city_name']\n",
    "#     q_url = f\"{base_url}q={c_name}&units={units}&appid={weather_api_key}\"\n",
    "\n",
    "#     weather_resp = requests.get(q_url).json()\n",
    "\n",
    "#     try:\n",
    "#         city_number += 1\n",
    "#         city_df.loc[:, 'city_longitude'] = weather_resp['coord']['lon']\n",
    "#         print(f\"Processing Record {city_number} of {len(cities)}: {city}\")\n",
    "\n",
    "\n",
    "#     except (KeyError, IndexError):\n",
    "#         print(\"City not found. Skipping...\")"
   ]
  },
  {
   "cell_type": "code",
   "execution_count": 16,
   "metadata": {
    "tags": []
   },
   "outputs": [
    {
     "output_type": "stream",
     "name": "stdout",
     "text": "Processing Record 1 of 632: lavrentiya\nProcessing Record 2 of 632: te anau\nProcessing Record 3 of 632: mataura\nProcessing Record 4 of 632: tateyama\nProcessing Record 5 of 632: port lincoln\nProcessing Record 6 of 632: barrow\nProcessing Record 7 of 632: kwinana\nProcessing Record 8 of 632: punta arenas\nProcessing Record 9 of 632: castro\nProcessing Record 10 of 632: severnyy\n"
    }
   ],
   "source": [
    "name = []\n",
    "lng = []\n",
    "lat = []\n",
    "maxtemp = []\n",
    "humid = []\n",
    "cloud = []\n",
    "windspd = []\n",
    "country = []\n",
    "datetime = []\n",
    "\n",
    "city_number = 0\n",
    "\n",
    "for city in cities[:10]:\n",
    "    q_url = f\"{base_url}q={city}&units={units}&appid={weather_api_key}\"\n",
    "    weather_resp = requests.get(q_url).json()\n",
    "\n",
    "    try:\n",
    "        city_number += 1\n",
    "        \n",
    "        name.append(weather_resp['name'])\n",
    "        lng.append(weather_resp['coord']['lon'])\n",
    "        lat.append(weather_resp['coord']['lat'])\n",
    "        maxtemp.append(weather_resp['main']['temp_max'])\n",
    "        humid.append(weather_resp['main']['humidity'])\n",
    "        cloud.append(weather_resp['clouds']['all'])\n",
    "        windspd.append(weather_resp['wind']['speed'])\n",
    "        country.append(weather_resp['sys']['country'])\n",
    "        datetime.append(weather_resp['dt'])\n",
    "        \n",
    "\n",
    "        print(f\"Processing Record {city_number} of {len(cities)}: {city}\")\n",
    "\n",
    "\n",
    "    except (KeyError, IndexError):\n",
    "        print(\"City not found. Skipping...\")\n",
    "        pass"
   ]
  },
  {
   "cell_type": "code",
   "execution_count": null,
   "metadata": {},
   "outputs": [],
   "source": [
    "# city_dict = {}\n",
    "# city_number = 0\n",
    "\n",
    "# for city in cities:\n",
    "#     q_url = f\"{base_url}q={city}&units={units}&appid={weather_api_key}\"\n",
    "#     weather_resp = requests.get(q_url).json()\n",
    "\n",
    "#     try:\n",
    "#         city_number += 1\n",
    "        \n",
    "#         city_df.loc[:, 'city_longitude'] = weather_resp['coord']['lon']\n",
    "#         print(f\"Processing Record {city_number} of {len(cities)}: {city}\")\n",
    "\n",
    "\n",
    "#     except (KeyError, IndexError):\n",
    "#         print(\"City not found. Skipping...\")"
   ]
  },
  {
   "cell_type": "code",
   "execution_count": 17,
   "metadata": {},
   "outputs": [
    {
     "output_type": "execute_result",
     "data": {
      "text/plain": "      City Name  Longitude  Latitude  Max Temperature  Humidtiy  \\\n0    Lavrentiya    -171.00     65.58            46.62        83   \n1       Te Anau     167.72    -45.42            36.34        87   \n2       Mataura     168.86    -46.19            41.74        92   \n3      Tateyama     139.87     34.98            73.99       100   \n4  Port Lincoln     135.87    -34.73            54.63        57   \n5        Barrow    -156.79     71.29            37.40        86   \n6       Kwinana     115.77    -32.25            59.00       100   \n7  Punta Arenas     -70.92    -53.15            35.60        74   \n8        Castro     -50.01    -24.79            59.56        49   \n9      Severnyy      36.55     50.68            69.80        46   \n\n   Cloud Coverage  Wind Speed City Country   Date Time  \n0               2        1.28           RU  1594314881  \n1              43        1.03           NZ  1594314881  \n2              94        5.35           NZ  1594314881  \n3              75       10.29           JP  1594314881  \n4             100       13.82           AU  1594314882  \n5               1       10.29           US  1594314882  \n6               4        9.10           AU  1594314882  \n7              75       23.04           CL  1594314674  \n8              92        5.55           BR  1594314549  \n9               5       13.42           RU  1594314883  ",
      "text/html": "<div>\n<style scoped>\n    .dataframe tbody tr th:only-of-type {\n        vertical-align: middle;\n    }\n\n    .dataframe tbody tr th {\n        vertical-align: top;\n    }\n\n    .dataframe thead th {\n        text-align: right;\n    }\n</style>\n<table border=\"1\" class=\"dataframe\">\n  <thead>\n    <tr style=\"text-align: right;\">\n      <th></th>\n      <th>City Name</th>\n      <th>Longitude</th>\n      <th>Latitude</th>\n      <th>Max Temperature</th>\n      <th>Humidtiy</th>\n      <th>Cloud Coverage</th>\n      <th>Wind Speed</th>\n      <th>City Country</th>\n      <th>Date Time</th>\n    </tr>\n  </thead>\n  <tbody>\n    <tr>\n      <th>0</th>\n      <td>Lavrentiya</td>\n      <td>-171.00</td>\n      <td>65.58</td>\n      <td>46.62</td>\n      <td>83</td>\n      <td>2</td>\n      <td>1.28</td>\n      <td>RU</td>\n      <td>1594314881</td>\n    </tr>\n    <tr>\n      <th>1</th>\n      <td>Te Anau</td>\n      <td>167.72</td>\n      <td>-45.42</td>\n      <td>36.34</td>\n      <td>87</td>\n      <td>43</td>\n      <td>1.03</td>\n      <td>NZ</td>\n      <td>1594314881</td>\n    </tr>\n    <tr>\n      <th>2</th>\n      <td>Mataura</td>\n      <td>168.86</td>\n      <td>-46.19</td>\n      <td>41.74</td>\n      <td>92</td>\n      <td>94</td>\n      <td>5.35</td>\n      <td>NZ</td>\n      <td>1594314881</td>\n    </tr>\n    <tr>\n      <th>3</th>\n      <td>Tateyama</td>\n      <td>139.87</td>\n      <td>34.98</td>\n      <td>73.99</td>\n      <td>100</td>\n      <td>75</td>\n      <td>10.29</td>\n      <td>JP</td>\n      <td>1594314881</td>\n    </tr>\n    <tr>\n      <th>4</th>\n      <td>Port Lincoln</td>\n      <td>135.87</td>\n      <td>-34.73</td>\n      <td>54.63</td>\n      <td>57</td>\n      <td>100</td>\n      <td>13.82</td>\n      <td>AU</td>\n      <td>1594314882</td>\n    </tr>\n    <tr>\n      <th>5</th>\n      <td>Barrow</td>\n      <td>-156.79</td>\n      <td>71.29</td>\n      <td>37.40</td>\n      <td>86</td>\n      <td>1</td>\n      <td>10.29</td>\n      <td>US</td>\n      <td>1594314882</td>\n    </tr>\n    <tr>\n      <th>6</th>\n      <td>Kwinana</td>\n      <td>115.77</td>\n      <td>-32.25</td>\n      <td>59.00</td>\n      <td>100</td>\n      <td>4</td>\n      <td>9.10</td>\n      <td>AU</td>\n      <td>1594314882</td>\n    </tr>\n    <tr>\n      <th>7</th>\n      <td>Punta Arenas</td>\n      <td>-70.92</td>\n      <td>-53.15</td>\n      <td>35.60</td>\n      <td>74</td>\n      <td>75</td>\n      <td>23.04</td>\n      <td>CL</td>\n      <td>1594314674</td>\n    </tr>\n    <tr>\n      <th>8</th>\n      <td>Castro</td>\n      <td>-50.01</td>\n      <td>-24.79</td>\n      <td>59.56</td>\n      <td>49</td>\n      <td>92</td>\n      <td>5.55</td>\n      <td>BR</td>\n      <td>1594314549</td>\n    </tr>\n    <tr>\n      <th>9</th>\n      <td>Severnyy</td>\n      <td>36.55</td>\n      <td>50.68</td>\n      <td>69.80</td>\n      <td>46</td>\n      <td>5</td>\n      <td>13.42</td>\n      <td>RU</td>\n      <td>1594314883</td>\n    </tr>\n  </tbody>\n</table>\n</div>"
     },
     "metadata": {},
     "execution_count": 17
    }
   ],
   "source": [
    "city_summary = pd.DataFrame({\"City Name\": name,\n",
    "                            \"Longitude\": lng,\n",
    "                            \"Latitude\": lat,\n",
    "                            \"Max Temperature\": maxtemp,\n",
    "                            \"Humidtiy\": humid,\n",
    "                            \"Cloud Coverage\": cloud,\n",
    "                            \"Wind Speed\": windspd,\n",
    "                            \"City Country\": country,\n",
    "                            \"Date Time\": datetime})\n",
    "city_summary"
   ]
  },
  {
   "cell_type": "markdown",
   "metadata": {},
   "source": [
    "### Convert Raw Data to DataFrame\n",
    "* Export the city data into a .csv.\n",
    "* Display the DataFrame"
   ]
  },
  {
   "cell_type": "code",
   "execution_count": null,
   "metadata": {},
   "outputs": [],
   "source": []
  },
  {
   "cell_type": "code",
   "execution_count": null,
   "metadata": {},
   "outputs": [],
   "source": []
  },
  {
   "cell_type": "markdown",
   "metadata": {},
   "source": [
    "## Inspect the data and remove the cities where the humidity > 100%.\n",
    "----\n",
    "Skip this step if there are no cities that have humidity > 100%. "
   ]
  },
  {
   "cell_type": "code",
   "execution_count": null,
   "metadata": {},
   "outputs": [],
   "source": []
  },
  {
   "cell_type": "code",
   "execution_count": null,
   "metadata": {},
   "outputs": [],
   "source": [
    "#  Get the indices of cities that have humidity over 100%.\n"
   ]
  },
  {
   "cell_type": "code",
   "execution_count": null,
   "metadata": {},
   "outputs": [],
   "source": [
    "# Make a new DataFrame equal to the city data to drop all humidity outliers by index.\n",
    "# Passing \"inplace=False\" will make a copy of the city_data DataFrame, which we call \"clean_city_data\".\n"
   ]
  },
  {
   "cell_type": "code",
   "execution_count": null,
   "metadata": {},
   "outputs": [],
   "source": [
    "# Extract relevant fields from the data frame\n",
    "\n",
    "\n",
    "# Export the City_Data into a csv\n"
   ]
  },
  {
   "cell_type": "markdown",
   "metadata": {},
   "source": [
    "## Plotting the Data\n",
    "* Use proper labeling of the plots using plot titles (including date of analysis) and axes labels.\n",
    "* Save the plotted figures as .pngs."
   ]
  },
  {
   "cell_type": "markdown",
   "metadata": {},
   "source": [
    "## Latitude vs. Temperature Plot"
   ]
  },
  {
   "cell_type": "code",
   "execution_count": null,
   "metadata": {
    "scrolled": true
   },
   "outputs": [],
   "source": []
  },
  {
   "cell_type": "markdown",
   "metadata": {},
   "source": [
    "## Latitude vs. Humidity Plot"
   ]
  },
  {
   "cell_type": "code",
   "execution_count": null,
   "metadata": {},
   "outputs": [],
   "source": []
  },
  {
   "cell_type": "markdown",
   "metadata": {},
   "source": [
    "## Latitude vs. Cloudiness Plot"
   ]
  },
  {
   "cell_type": "code",
   "execution_count": null,
   "metadata": {},
   "outputs": [],
   "source": []
  },
  {
   "cell_type": "markdown",
   "metadata": {},
   "source": [
    "## Latitude vs. Wind Speed Plot"
   ]
  },
  {
   "cell_type": "code",
   "execution_count": null,
   "metadata": {},
   "outputs": [],
   "source": []
  },
  {
   "cell_type": "markdown",
   "metadata": {},
   "source": [
    "## Linear Regression"
   ]
  },
  {
   "cell_type": "code",
   "execution_count": null,
   "metadata": {},
   "outputs": [],
   "source": [
    "# OPTIONAL: Create a function to create Linear Regression plots"
   ]
  },
  {
   "cell_type": "code",
   "execution_count": null,
   "metadata": {},
   "outputs": [],
   "source": [
    "# Create Northern and Southern Hemisphere DataFrames"
   ]
  },
  {
   "cell_type": "markdown",
   "metadata": {},
   "source": [
    "####  Northern Hemisphere - Max Temp vs. Latitude Linear Regression"
   ]
  },
  {
   "cell_type": "code",
   "execution_count": null,
   "metadata": {},
   "outputs": [],
   "source": []
  },
  {
   "cell_type": "markdown",
   "metadata": {},
   "source": [
    "####  Southern Hemisphere - Max Temp vs. Latitude Linear Regression"
   ]
  },
  {
   "cell_type": "code",
   "execution_count": null,
   "metadata": {},
   "outputs": [],
   "source": []
  },
  {
   "cell_type": "markdown",
   "metadata": {},
   "source": [
    "####  Northern Hemisphere - Humidity (%) vs. Latitude Linear Regression"
   ]
  },
  {
   "cell_type": "code",
   "execution_count": null,
   "metadata": {},
   "outputs": [],
   "source": []
  },
  {
   "cell_type": "markdown",
   "metadata": {},
   "source": [
    "####  Southern Hemisphere - Humidity (%) vs. Latitude Linear Regression"
   ]
  },
  {
   "cell_type": "code",
   "execution_count": null,
   "metadata": {},
   "outputs": [],
   "source": []
  },
  {
   "cell_type": "markdown",
   "metadata": {},
   "source": [
    "####  Northern Hemisphere - Cloudiness (%) vs. Latitude Linear Regression"
   ]
  },
  {
   "cell_type": "code",
   "execution_count": null,
   "metadata": {},
   "outputs": [],
   "source": []
  },
  {
   "cell_type": "markdown",
   "metadata": {},
   "source": [
    "####  Southern Hemisphere - Cloudiness (%) vs. Latitude Linear Regression"
   ]
  },
  {
   "cell_type": "code",
   "execution_count": null,
   "metadata": {},
   "outputs": [],
   "source": []
  },
  {
   "cell_type": "markdown",
   "metadata": {},
   "source": [
    "####  Northern Hemisphere - Wind Speed (mph) vs. Latitude Linear Regression"
   ]
  },
  {
   "cell_type": "code",
   "execution_count": null,
   "metadata": {},
   "outputs": [],
   "source": []
  },
  {
   "cell_type": "markdown",
   "metadata": {},
   "source": [
    "####  Southern Hemisphere - Wind Speed (mph) vs. Latitude Linear Regression"
   ]
  },
  {
   "cell_type": "code",
   "execution_count": null,
   "metadata": {},
   "outputs": [],
   "source": []
  },
  {
   "cell_type": "code",
   "execution_count": null,
   "metadata": {},
   "outputs": [],
   "source": []
  }
 ],
 "metadata": {
  "anaconda-cloud": {},
  "kernel_info": {
   "name": "python3"
  },
  "kernelspec": {
   "display_name": "Python 3.6.10 64-bit ('PythonData': conda)",
   "language": "python",
   "name": "python361064bitpythondatacondae5997a2e410345aaa38bb48a893dd3cc"
  },
  "language_info": {
   "codemirror_mode": {
    "name": "ipython",
    "version": 3
   },
   "file_extension": ".py",
   "mimetype": "text/x-python",
   "name": "python",
   "nbconvert_exporter": "python",
   "pygments_lexer": "ipython3",
   "version": "3.6.10-final"
  },
  "latex_envs": {
   "LaTeX_envs_menu_present": true,
   "autoclose": false,
   "autocomplete": true,
   "bibliofile": "biblio.bib",
   "cite_by": "apalike",
   "current_citInitial": 1,
   "eqLabelWithNumbers": true,
   "eqNumInitial": 1,
   "hotkeys": {
    "equation": "Ctrl-E",
    "itemize": "Ctrl-I"
   },
   "labels_anchors": false,
   "latex_user_defs": false,
   "report_style_numbering": false,
   "user_envs_cfg": false
  },
  "nteract": {
   "version": "0.12.3"
  }
 },
 "nbformat": 4,
 "nbformat_minor": 2
}