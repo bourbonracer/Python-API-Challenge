{
 "cells": [
  {
   "cell_type": "markdown",
   "metadata": {},
   "source": [
    "# WeatherPy\n",
    "----\n",
    "\n",
    "#### Note\n",
    "* Instructions have been included for each segment. You do not have to follow them exactly, but they are included to help you think through the steps."
   ]
  },
  {
   "cell_type": "code",
   "execution_count": 1,
   "metadata": {
    "scrolled": true
   },
   "outputs": [],
   "source": [
    "# Dependencies and Setup\n",
    "import matplotlib.pyplot as plt\n",
    "import pandas as pd\n",
    "import numpy as np\n",
    "import requests\n",
    "import time\n",
    "from scipy.stats import linregress\n",
    "\n",
    "# Import API key\n",
    "from api_keys import weather_api_key\n",
    "\n",
    "# Incorporated citipy to determine city based on latitude and longitude\n",
    "from citipy import citipy\n",
    "\n",
    "# Output File (CSV)\n",
    "output_data_file = \"../output_data/cities.csv\"\n",
    "\n",
    "# Range of latitudes and longitudes\n",
    "lat_range = (-90, 90)\n",
    "lng_range = (-180, 180)"
   ]
  },
  {
   "cell_type": "markdown",
   "metadata": {},
   "source": [
    "## Generate Cities List"
   ]
  },
  {
   "cell_type": "code",
   "execution_count": 2,
   "metadata": {},
   "outputs": [
    {
     "output_type": "execute_result",
     "data": {
      "text/plain": "603"
     },
     "metadata": {},
     "execution_count": 2
    }
   ],
   "source": [
    "# List for holding lat_lngs and cities\n",
    "lat_lngs = []\n",
    "cities = []\n",
    "units = \"imperial\"\n",
    "\n",
    "# Create a set of random lat and lng combinations\n",
    "lats = np.random.uniform(lat_range[0], lat_range[1], size=1500)\n",
    "lngs = np.random.uniform(lng_range[0], lng_range[1], size=1500)\n",
    "lat_lngs = zip(lats, lngs)\n",
    "\n",
    "# Identify nearest city for each lat, lng combination\n",
    "for lat_lng in lat_lngs:\n",
    "    city = citipy.nearest_city(lat_lng[0], lat_lng[1]).city_name\n",
    "    \n",
    "    # If the city is unique, then add it to a our cities list\n",
    "    if city not in cities:\n",
    "        cities.append(city)\n",
    "\n",
    "# Print the city count to confirm sufficient count\n",
    "len(cities)"
   ]
  },
  {
   "cell_type": "markdown",
   "metadata": {},
   "source": [
    "### Perform API Calls\n",
    "* Perform a weather check on each city using a series of successive API calls.\n",
    "* Include a print log of each city as it'sbeing processed (with the city number and city name).\n"
   ]
  },
  {
   "cell_type": "code",
   "execution_count": 3,
   "metadata": {},
   "outputs": [
    {
     "output_type": "execute_result",
     "data": {
      "text/plain": "        city_name city_longitude city_latitude max_temp humidity cloud_covg  \\\n0        saldanha                                                             \n1  ribeira grande                                                             \n2      kaitangata                                                             \n3       sovetskiy                                                             \n4          hobart                                                             \n\n  wind_speed city_country city_datetime  \n0                                        \n1                                        \n2                                        \n3                                        \n4                                        ",
      "text/html": "<div>\n<style scoped>\n    .dataframe tbody tr th:only-of-type {\n        vertical-align: middle;\n    }\n\n    .dataframe tbody tr th {\n        vertical-align: top;\n    }\n\n    .dataframe thead th {\n        text-align: right;\n    }\n</style>\n<table border=\"1\" class=\"dataframe\">\n  <thead>\n    <tr style=\"text-align: right;\">\n      <th></th>\n      <th>city_name</th>\n      <th>city_longitude</th>\n      <th>city_latitude</th>\n      <th>max_temp</th>\n      <th>humidity</th>\n      <th>cloud_covg</th>\n      <th>wind_speed</th>\n      <th>city_country</th>\n      <th>city_datetime</th>\n    </tr>\n  </thead>\n  <tbody>\n    <tr>\n      <th>0</th>\n      <td>saldanha</td>\n      <td></td>\n      <td></td>\n      <td></td>\n      <td></td>\n      <td></td>\n      <td></td>\n      <td></td>\n      <td></td>\n    </tr>\n    <tr>\n      <th>1</th>\n      <td>ribeira grande</td>\n      <td></td>\n      <td></td>\n      <td></td>\n      <td></td>\n      <td></td>\n      <td></td>\n      <td></td>\n      <td></td>\n    </tr>\n    <tr>\n      <th>2</th>\n      <td>kaitangata</td>\n      <td></td>\n      <td></td>\n      <td></td>\n      <td></td>\n      <td></td>\n      <td></td>\n      <td></td>\n      <td></td>\n    </tr>\n    <tr>\n      <th>3</th>\n      <td>sovetskiy</td>\n      <td></td>\n      <td></td>\n      <td></td>\n      <td></td>\n      <td></td>\n      <td></td>\n      <td></td>\n      <td></td>\n    </tr>\n    <tr>\n      <th>4</th>\n      <td>hobart</td>\n      <td></td>\n      <td></td>\n      <td></td>\n      <td></td>\n      <td></td>\n      <td></td>\n      <td></td>\n      <td></td>\n    </tr>\n  </tbody>\n</table>\n</div>"
     },
     "metadata": {},
     "execution_count": 3
    }
   ],
   "source": [
    "city_df = pd.DataFrame(cities).rename(columns={0:\"city_name\"})\n",
    "city_df['city_longitude'] = \"\"\n",
    "city_df['city_latitude'] = \"\"\n",
    "city_df['max_temp'] = \"\"\n",
    "city_df['humidity'] = \"\"\n",
    "city_df['cloud_covg'] = \"\"\n",
    "city_df['wind_speed'] = \"\"\n",
    "city_df['city_country'] = \"\"\n",
    "city_df['city_datetime'] = \"\"\n",
    "city_df.head()\n"
   ]
  },
  {
   "cell_type": "code",
   "execution_count": 4,
   "metadata": {},
   "outputs": [],
   "source": [
    "base_url = \"http://api.openweathermap.org/data/2.5/weather?\""
   ]
  },
  {
   "cell_type": "code",
   "execution_count": 6,
   "metadata": {
    "tags": [
     "outputPrepend"
    ]
   },
   "outputs": [
    {
     "output_type": "stream",
     "name": "stdout",
     "text": "123 of 631: luau\nProcessing Record 124 of 631: vaini\nProcessing Record 125 of 631: bowen\nProcessing Record 126 of 631: port alfred\nProcessing Record 127 of 631: khatanga\nProcessing Record 128 of 631: istmina\nProcessing Record 129 of 631: treinta y tres\nProcessing Record 130 of 631: havre-saint-pierre\nProcessing Record 131 of 631: amderma\nProcessing Record 132 of 631: shrigonda\nProcessing Record 133 of 631: panama city\nProcessing Record 134 of 631: celestun\nProcessing Record 135 of 631: glace bay\nProcessing Record 136 of 631: carnarvon\nProcessing Record 137 of 631: severo-yeniseyskiy\nProcessing Record 138 of 631: dikson\nProcessing Record 139 of 631: puerto ayora\nProcessing Record 140 of 631: uyskoye\nProcessing Record 141 of 631: sakakah\nProcessing Record 142 of 631: otofuke\nProcessing Record 143 of 631: itarema\nProcessing Record 144 of 631: ogaminana\nProcessing Record 145 of 631: toliary\nProcessing Record 146 of 631: novochernorechenskiy\nProcessing Record 147 of 631: east london\nProcessing Record 148 of 631: pevek\nProcessing Record 149 of 631: cabo san lucas\nProcessing Record 150 of 631: sault sainte marie\nProcessing Record 151 of 631: tiksi\nProcessing Record 152 of 631: vetluga\nProcessing Record 153 of 631: klaksvik\nProcessing Record 154 of 631: limon\nProcessing Record 155 of 631: uglegorsk\nProcessing Record 156 of 631: ushuaia\nProcessing Record 157 of 631: jocotepec\nProcessing Record 158 of 631: aklavik\nProcessing Record 159 of 631: mys shmidta\nProcessing Record 160 of 631: kodiak\nProcessing Record 161 of 631: novoagansk\nProcessing Record 162 of 631: sentyabrskiy\nProcessing Record 163 of 631: rocky mountain house\nProcessing Record 164 of 631: luderitz\nProcessing Record 165 of 631: kousseri\nProcessing Record 166 of 631: ha tinh\nProcessing Record 167 of 631: babu\nProcessing Record 168 of 631: dalbandin\nProcessing Record 169 of 631: sorland\nProcessing Record 170 of 631: touros\nProcessing Record 171 of 631: stornoway\nProcessing Record 172 of 631: linares\nProcessing Record 173 of 631: russkaya polyana\nProcessing Record 174 of 631: ariquemes\nProcessing Record 175 of 631: san policarpo\nProcessing Record 176 of 631: cayenne\nProcessing Record 177 of 631: halifax\nProcessing Record 178 of 631: omboue\nProcessing Record 179 of 631: wellington\nProcessing Record 180 of 631: beringovskiy\nProcessing Record 181 of 631: biltine\nProcessing Record 182 of 631: chuy\nProcessing Record 183 of 631: kavaratti\nProcessing Record 184 of 631: alenquer\nProcessing Record 185 of 631: saint george\nProcessing Record 186 of 631: kijang\nProcessing Record 187 of 631: esmeraldas\nProcessing Record 188 of 631: avarua\nProcessing Record 189 of 631: severo-kurilsk\nProcessing Record 190 of 631: goderich\nProcessing Record 191 of 631: dudinka\nProcessing Record 192 of 631: amahai\nProcessing Record 193 of 631: turbat\nProcessing Record 194 of 631: cidreira\nProcessing Record 195 of 631: penzance\nProcessing Record 196 of 631: inirida\nProcessing Record 197 of 631: perth\nProcessing Record 198 of 631: nassjo\nProcessing Record 199 of 631: bully-les-mines\nProcessing Record 200 of 631: lavrentiya\nProcessing Record 201 of 631: los llanos de aridane\nProcessing Record 202 of 631: skibbereen\nProcessing Record 203 of 631: barcelos\nProcessing Record 204 of 631: ulaangom\nProcessing Record 205 of 631: upernavik\nProcessing Record 206 of 631: leshukonskoye\nProcessing Record 207 of 631: norman wells\nProcessing Record 208 of 631: mahebourg\nProcessing Record 209 of 631: olafsvik\nProcessing Record 210 of 631: ust-ordynskiy\nProcessing Record 211 of 631: sao felix do xingu\nProcessing Record 212 of 631: sembe\nProcessing Record 213 of 631: lermontovka\nProcessing Record 214 of 631: victoria\nProcessing Record 215 of 631: riachao\nProcessing Record 216 of 631: tuatapere\nProcessing Record 217 of 631: watsa\nProcessing Record 218 of 631: yakeshi\nProcessing Record 219 of 631: camacha\nProcessing Record 220 of 631: thompson\nProcessing Record 221 of 631: atar\nProcessing Record 222 of 631: kahului\nProcessing Record 223 of 631: mazagao\nProcessing Record 224 of 631: alta floresta\nProcessing Record 225 of 631: bloomfield\nProcessing Record 226 of 631: honiara\nProcessing Record 227 of 631: arlit\nProcessing Record 228 of 631: ola\nProcessing Record 229 of 631: naze\nProcessing Record 230 of 631: bluff\nProcessing Record 231 of 631: kieta\nProcessing Record 232 of 631: leningradskiy\nProcessing Record 233 of 631: bahia honda\nProcessing Record 234 of 631: sapouy\nProcessing Record 235 of 631: bengkulu\nProcessing Record 236 of 631: vardo\nProcessing Record 237 of 631: kurchum\nProcessing Record 238 of 631: necochea\nProcessing Record 239 of 631: buochs\nProcessing Record 240 of 631: olinda\nProcessing Record 241 of 631: abdulino\nProcessing Record 242 of 631: fukue\nProcessing Record 243 of 631: port hardy\nProcessing Record 244 of 631: zabol\nProcessing Record 245 of 631: kisanga\nProcessing Record 246 of 631: maraa\nProcessing Record 247 of 631: portland\nProcessing Record 248 of 631: meyungs\nProcessing Record 249 of 631: mayo\nProcessing Record 250 of 631: granville\nProcessing Record 251 of 631: carauari\nProcessing Record 252 of 631: fare\nProcessing Record 253 of 631: provideniya\nProcessing Record 254 of 631: doctor pedro p. pena\nProcessing Record 255 of 631: riyadh\nProcessing Record 256 of 631: malanville\nProcessing Record 257 of 631: tiznit\nProcessing Record 258 of 631: zapolyarnyy\nProcessing Record 259 of 631: maloshuyka\nProcessing Record 260 of 631: mirnyy\nProcessing Record 261 of 631: clyde river\nProcessing Record 262 of 631: tilichiki\nProcessing Record 263 of 631: umzimvubu\nProcessing Record 264 of 631: haines junction\nProcessing Record 265 of 631: shimoda\nProcessing Record 266 of 631: arraial do cabo\nProcessing Record 267 of 631: ilulissat\nProcessing Record 268 of 631: faanui\nProcessing Record 269 of 631: kumo\nProcessing Record 270 of 631: pontianak\nProcessing Record 271 of 631: sawakin\nProcessing Record 272 of 631: stantsiya gorchakovo\nProcessing Record 273 of 631: porto walter\nProcessing Record 274 of 631: beloha\nProcessing Record 275 of 631: gonbad-e qabus\nProcessing Record 276 of 631: dingle\nProcessing Record 277 of 631: hammerfest\nProcessing Record 278 of 631: northam\nProcessing Record 279 of 631: miranda\nProcessing Record 280 of 631: launceston\nProcessing Record 281 of 631: bargal\nProcessing Record 282 of 631: tsihombe\nProcessing Record 283 of 631: mayor pablo lagerenza\nProcessing Record 284 of 631: manado\nProcessing Record 285 of 631: asosa\nProcessing Record 286 of 631: jalu\nProcessing Record 287 of 631: amapa\nProcessing Record 288 of 631: christchurch\nProcessing Record 289 of 631: polunochnoye\nProcessing Record 290 of 631: whyalla\nProcessing Record 291 of 631: te anau\nProcessing Record 292 of 631: ahuimanu\nProcessing Record 293 of 631: kaitangata\nProcessing Record 294 of 631: yanai\nProcessing Record 295 of 631: kyzyl-suu\nProcessing Record 296 of 631: antalaha\nProcessing Record 297 of 631: totness\nProcessing Record 298 of 631: burshtyn\nProcessing Record 299 of 631: yinchuan\nProcessing Record 300 of 631: sola\nProcessing Record 301 of 631: fortuna\nProcessing Record 302 of 631: tadine\nProcessing Record 303 of 631: denpasar\nProcessing Record 304 of 631: louisbourg\nProcessing Record 305 of 631: soe\nProcessing Record 306 of 631: lasa\nProcessing Record 307 of 631: beyneu\nProcessing Record 308 of 631: tunduru\nProcessing Record 309 of 631: george town\nProcessing Record 310 of 631: guerrero negro\nProcessing Record 311 of 631: fairbanks\nProcessing Record 312 of 631: peleduy\nProcessing Record 313 of 631: castelo do piaui\nProcessing Record 314 of 631: mount darwin\nProcessing Record 315 of 631: chokurdakh\nProcessing Record 316 of 631: isla mujeres\nProcessing Record 317 of 631: altay\nProcessing Record 318 of 631: belushya guba\nProcessing Record 319 of 631: puerto quijarro\nProcessing Record 320 of 631: hobyo\nProcessing Record 321 of 631: jatibonico\nProcessing Record 322 of 631: namibe\nProcessing Record 323 of 631: bilma\nProcessing Record 324 of 631: fandriana\nProcessing Record 325 of 631: baykit\nProcessing Record 326 of 631: saint-pierre\nProcessing Record 327 of 631: bathsheba\nProcessing Record 328 of 631: zajecar\nProcessing Record 329 of 631: yazman\nProcessing Record 330 of 631: komsomolskiy\nProcessing Record 331 of 631: eyl\nProcessing Record 332 of 631: taltal\nProcessing Record 333 of 631: senec\nProcessing Record 334 of 631: winnemucca\nProcessing Record 335 of 631: nemesvamos\nProcessing Record 336 of 631: paita\nProcessing Record 337 of 631: chapleau\nProcessing Record 338 of 631: sherlovaya gora\nProcessing Record 339 of 631: dali\nProcessing Record 340 of 631: ushtobe\nProcessing Record 341 of 631: varna\nProcessing Record 342 of 631: la ronge\nProcessing Record 343 of 631: hasaki\nProcessing Record 344 of 631: karratha\nProcessing Record 345 of 631: bethel\nProcessing Record 346 of 631: antofagasta\nProcessing Record 347 of 631: natitingou\nProcessing Record 348 of 631: atasu\nProcessing Record 349 of 631: kalabo\nProcessing Record 350 of 631: shiliguri\nProcessing Record 351 of 631: carutapera\nProcessing Record 352 of 631: oshnaviyeh\nProcessing Record 353 of 631: lompoc\nProcessing Record 354 of 631: tessalit\nProcessing Record 355 of 631: lakes entrance\nProcessing Record 356 of 631: zlynka\nProcessing Record 357 of 631: fevralsk\nProcessing Record 358 of 631: bay city\nProcessing Record 359 of 631: nguiu\nProcessing Record 360 of 631: gizo\nProcessing Record 361 of 631: hilo\nProcessing Record 362 of 631: carballo\nProcessing Record 363 of 631: chirongui\nProcessing Record 364 of 631: teguise\nProcessing Record 365 of 631: kupang\nProcessing Record 366 of 631: banda aceh\nProcessing Record 367 of 631: vila do maio\nProcessing Record 368 of 631: longyan\nProcessing Record 369 of 631: longyearbyen\nProcessing Record 370 of 631: aksu\nProcessing Record 371 of 631: preobrazheniye\nProcessing Record 372 of 631: belousovka\nProcessing Record 373 of 631: ponta delgada\nProcessing Record 374 of 631: acari\nProcessing Record 375 of 631: kuche\nProcessing Record 376 of 631: saint-joseph\nProcessing Record 377 of 631: gimli\nProcessing Record 378 of 631: antsohihy\nProcessing Record 379 of 631: ossora\nProcessing Record 380 of 631: merrill\nProcessing Record 381 of 631: estelle\nProcessing Record 382 of 631: phan rang\nProcessing Record 383 of 631: kamenka\nProcessing Record 384 of 631: matara\nProcessing Record 385 of 631: katsuura\nProcessing Record 386 of 631: ust-kamchatsk\nProcessing Record 387 of 631: attawapiskat\nProcessing Record 388 of 631: vitina\nProcessing Record 389 of 631: zverinogolovskoye\nProcessing Record 390 of 631: southbridge\nProcessing Record 391 of 631: qaqortoq\nProcessing Record 392 of 631: kavieng\nProcessing Record 393 of 631: horsham\nProcessing Record 394 of 631: san patricio\nProcessing Record 395 of 631: zyryanka\nProcessing Record 396 of 631: grand river south east\nProcessing Record 397 of 631: chilmari\nProcessing Record 398 of 631: shache\nProcessing Record 399 of 631: mount isa\nProcessing Record 400 of 631: ngerengere\nProcessing Record 401 of 631: uzunkopru\nProcessing Record 402 of 631: mehamn\nProcessing Record 403 of 631: jumla\nProcessing Record 404 of 631: sao paulo de olivenca\nProcessing Record 405 of 631: airai\nProcessing Record 406 of 631: kalmunai\nProcessing Record 407 of 631: nishihara\nProcessing Record 408 of 631: hunza\nProcessing Record 409 of 631: palmerston\nProcessing Record 410 of 631: nhlangano\nProcessing Record 411 of 631: hervey bay\nProcessing Record 412 of 631: gat\nProcessing Record 413 of 631: tabuk\nProcessing Record 414 of 631: nanchang\nProcessing Record 415 of 631: los algarrobos\nProcessing Record 416 of 631: ventspils\nProcessing Record 417 of 631: grand gaube\nProcessing Record 418 of 631: samusu\nProcessing Record 419 of 631: lodja\nProcessing Record 420 of 631: dawlatabad\nProcessing Record 421 of 631: bayan\nProcessing Record 422 of 631: aljezur\nProcessing Record 423 of 631: ciudad bolivar\nProcessing Record 424 of 631: road town\nProcessing Record 425 of 631: vao\nProcessing Record 426 of 631: mandalgovi\nProcessing Record 427 of 631: governador dix-sept rosado\nProcessing Record 428 of 631: bo rai\nProcessing Record 429 of 631: lahan\nProcessing Record 430 of 631: pochutla\nProcessing Record 431 of 631: dzhebariki-khaya\nProcessing Record 432 of 631: maple creek\nProcessing Record 433 of 631: buala\nProcessing Record 434 of 631: arrecife\nProcessing Record 435 of 631: coihaique\nProcessing Record 436 of 631: constitucion\nProcessing Record 437 of 631: kuytun\nProcessing Record 438 of 631: cozumel\nProcessing Record 439 of 631: pierre\nProcessing Record 440 of 631: panzhihua\nProcessing Record 441 of 631: kuusamo\nProcessing Record 442 of 631: elizabeth city\nProcessing Record 443 of 631: zambezi\nProcessing Record 444 of 631: byron bay\nProcessing Record 445 of 631: nizwa\nProcessing Record 446 of 631: bilibino\nProcessing Record 447 of 631: morondava\nProcessing Record 448 of 631: mogadishu\nProcessing Record 449 of 631: maceio\nProcessing Record 450 of 631: brigantine\nProcessing Record 451 of 631: damghan\nProcessing Record 452 of 631: aquin\nProcessing Record 453 of 631: dombarovskiy\nProcessing Record 454 of 631: chagda\nProcessing Record 455 of 631: varhaug\nProcessing Record 456 of 631: pisco\nProcessing Record 457 of 631: namatanai\nProcessing Record 458 of 631: macomer\nProcessing Record 459 of 631: lyubashivka\nProcessing Record 460 of 631: palembang\nProcessing Record 461 of 631: banjarmasin\nProcessing Record 462 of 631: asau\nProcessing Record 463 of 631: salalah\nProcessing Record 464 of 631: vaitupu\nProcessing Record 465 of 631: mariental\nProcessing Record 466 of 631: pizarro\nProcessing Record 467 of 631: darhan\nProcessing Record 468 of 631: chongwe\nProcessing Record 469 of 631: telixtlahuaca\nProcessing Record 470 of 631: haapiti\nProcessing Record 471 of 631: sabinas\nProcessing Record 472 of 631: tabou\nProcessing Record 473 of 631: jaguaquara\nProcessing Record 474 of 631: onokhino\nProcessing Record 475 of 631: locri\nProcessing Record 476 of 631: wysokie mazowieckie\nProcessing Record 477 of 631: naftah\nProcessing Record 478 of 631: tavda\nProcessing Record 479 of 631: mar del plata\nProcessing Record 480 of 631: adrar\nProcessing Record 481 of 631: sitka\nProcessing Record 482 of 631: kilindoni\nProcessing Record 483 of 631: dothan\nProcessing Record 484 of 631: esperance\nProcessing Record 485 of 631: sangar\nProcessing Record 486 of 631: jiwani\nProcessing Record 487 of 631: sao gabriel da cachoeira\nProcessing Record 488 of 631: macherla\nProcessing Record 489 of 631: dzhusaly\nProcessing Record 490 of 631: jiangyou\nProcessing Record 491 of 631: changli\nProcessing Record 492 of 631: utiroa\nProcessing Record 493 of 631: berlevag\nProcessing Record 494 of 631: verkhnyaya inta\nProcessing Record 495 of 631: northport\nProcessing Record 496 of 631: vallenar\nProcessing Record 497 of 631: flinders\nProcessing Record 498 of 631: mwingi\nProcessing Record 499 of 631: kralendijk\nProcessing Record 500 of 631: broome\nProcessing Record 501 of 631: trairi\nProcessing Record 502 of 631: luwuk\nProcessing Record 503 of 631: aras\nProcessing Record 504 of 631: tingrela\nProcessing Record 505 of 631: sao jose da coroa grande\nProcessing Record 506 of 631: itoman\nProcessing Record 507 of 631: somain\nProcessing Record 508 of 631: sabaudia\nProcessing Record 509 of 631: perigueux\nProcessing Record 510 of 631: den helder\nProcessing Record 511 of 631: zaterechnyy\nProcessing Record 512 of 631: labuhan\nProcessing Record 513 of 631: jawhar\nProcessing Record 514 of 631: khasan\nProcessing Record 515 of 631: le port\nProcessing Record 516 of 631: thinadhoo\nProcessing Record 517 of 631: chany\nProcessing Record 518 of 631: lerwick\nProcessing Record 519 of 631: pangody\nProcessing Record 520 of 631: mawlaik\nProcessing Record 521 of 631: taebla\nProcessing Record 522 of 631: mezen\nProcessing Record 523 of 631: iqaluit\nProcessing Record 524 of 631: almeirim\nProcessing Record 525 of 631: samarai\nProcessing Record 526 of 631: mount pleasant\nProcessing Record 527 of 631: batemans bay\nProcessing Record 528 of 631: jahrom\nProcessing Record 529 of 631: pemangkat\nProcessing Record 530 of 631: magdagachi\nProcessing Record 531 of 631: malaryta\nProcessing Record 532 of 631: amuntai\nProcessing Record 533 of 631: bud\nProcessing Record 534 of 631: quatre cocos\nProcessing Record 535 of 631: avera\nProcessing Record 536 of 631: awbari\nProcessing Record 537 of 631: kropotkin\nProcessing Record 538 of 631: safaga\nProcessing Record 539 of 631: arman\nProcessing Record 540 of 631: imbituba\nProcessing Record 541 of 631: gao\nProcessing Record 542 of 631: trinidad\nProcessing Record 543 of 631: opatija\nProcessing Record 544 of 631: margate\nProcessing Record 545 of 631: ajdabiya\nProcessing Record 546 of 631: keita\nProcessing Record 547 of 631: ancud\nProcessing Record 548 of 631: bac lieu\nProcessing Record 549 of 631: kasempa\nProcessing Record 550 of 631: udachnyy\nProcessing Record 551 of 631: hofn\nProcessing Record 552 of 631: college\nProcessing Record 553 of 631: lingao\nProcessing Record 554 of 631: sovetskiy\nProcessing Record 555 of 631: nanma\nProcessing Record 556 of 631: broken hill\nProcessing Record 557 of 631: marathon\nProcessing Record 558 of 631: lata\nProcessing Record 559 of 631: ardakan\nProcessing Record 560 of 631: waren\nProcessing Record 561 of 631: neiafu\nProcessing Record 562 of 631: lukovetskiy\nProcessing Record 563 of 631: yushan\nProcessing Record 564 of 631: cockburn town\nProcessing Record 565 of 631: bata\nProcessing Record 566 of 631: san ramon\nProcessing Record 567 of 631: oktyabrskiy\nProcessing Record 568 of 631: of\nProcessing Record 569 of 631: demidov\nProcessing Record 570 of 631: doka\nProcessing Record 571 of 631: beaufort\nProcessing Record 572 of 631: formosa\nProcessing Record 573 of 631: avila\nProcessing Record 574 of 631: altamira\nProcessing Record 575 of 631: pafos\nProcessing Record 576 of 631: ayagoz\nProcessing Record 577 of 631: sturlic\nProcessing Record 578 of 631: shingu\nProcessing Record 579 of 631: ojinaga\nProcessing Record 580 of 631: rokytne\nProcessing Record 581 of 631: auki\nProcessing Record 582 of 631: rockhampton\nProcessing Record 583 of 631: paredon\nProcessing Record 584 of 631: parauna\nProcessing Record 585 of 631: rangapara\nProcessing Record 586 of 631: urdzhar\nProcessing Record 587 of 631: barawe\nProcessing Record 588 of 631: cap-aux-meules\nProcessing Record 589 of 631: amga\nProcessing Record 590 of 631: sinnamary\nProcessing Record 591 of 631: luanda\nProcessing Record 592 of 631: santiago\nProcessing Record 593 of 631: hlukhiv\nProcessing Record 594 of 631: fuengirola\nProcessing Record 595 of 631: cockburn harbour\nProcessing Record 596 of 631: makakilo city\nProcessing Record 597 of 631: rapid valley\nProcessing Record 598 of 631: nouadhibou\nProcessing Record 599 of 631: maneadero\nProcessing Record 600 of 631: isangel\nProcessing Record 601 of 631: gurupa\nProcessing Record 602 of 631: zalantun\nProcessing Record 603 of 631: waingapu\nProcessing Record 604 of 631: triunfo\nProcessing Record 605 of 631: port blair\nProcessing Record 606 of 631: araouane\nProcessing Record 607 of 631: tateyama\nProcessing Record 608 of 631: raudeberg\nProcessing Record 609 of 631: medicine hat\nProcessing Record 610 of 631: play cu\nProcessing Record 611 of 631: tabialan\nProcessing Record 612 of 631: nichinan\nProcessing Record 613 of 631: mae hong son\nProcessing Record 614 of 631: manjeshwar\nProcessing Record 615 of 631: sungairaya\nProcessing Record 616 of 631: tongchuan\nProcessing Record 617 of 631: lokoja\nProcessing Record 618 of 631: sur\nProcessing Record 619 of 631: bagdarin\nProcessing Record 620 of 631: kununurra\nProcessing Record 621 of 631: ribeirao branco\nProcessing Record 622 of 631: hagdan\nProcessing Record 623 of 631: brae\nProcessing Record 624 of 631: praya\nProcessing Record 625 of 631: modakeke\nProcessing Record 626 of 631: tura\nProcessing Record 627 of 631: awjilah\nProcessing Record 628 of 631: lolua\nProcessing Record 629 of 631: ambalavao\nProcessing Record 630 of 631: whitehorse\nProcessing Record 631 of 631: muscat\n"
    }
   ],
   "source": [
    "city_number = 0\n",
    "for city in cities:\n",
    "    try:\n",
    "        q_url = f\"{base_url}q={city}&units={units}&appid={weather_api_key}\"\n",
    "        weather_resp = requests.get(q_url).json()\n",
    "        \n",
    "        city_number += 1\n",
    "        print(f\"Processing Record {city_number} of {len(cities)}: {city}\")\n",
    "    except (KeyError, IndexError):\n",
    "        print(\"City not found. Skipping...\")"
   ]
  },
  {
   "cell_type": "code",
   "execution_count": null,
   "metadata": {},
   "outputs": [],
   "source": []
  },
  {
   "cell_type": "markdown",
   "metadata": {},
   "source": [
    "### Convert Raw Data to DataFrame\n",
    "* Export the city data into a .csv.\n",
    "* Display the DataFrame"
   ]
  },
  {
   "cell_type": "code",
   "execution_count": null,
   "metadata": {},
   "outputs": [],
   "source": []
  },
  {
   "cell_type": "code",
   "execution_count": null,
   "metadata": {},
   "outputs": [],
   "source": []
  },
  {
   "cell_type": "markdown",
   "metadata": {},
   "source": [
    "## Inspect the data and remove the cities where the humidity > 100%.\n",
    "----\n",
    "Skip this step if there are no cities that have humidity > 100%. "
   ]
  },
  {
   "cell_type": "code",
   "execution_count": null,
   "metadata": {},
   "outputs": [],
   "source": []
  },
  {
   "cell_type": "code",
   "execution_count": null,
   "metadata": {},
   "outputs": [],
   "source": [
    "#  Get the indices of cities that have humidity over 100%.\n"
   ]
  },
  {
   "cell_type": "code",
   "execution_count": null,
   "metadata": {},
   "outputs": [],
   "source": [
    "# Make a new DataFrame equal to the city data to drop all humidity outliers by index.\n",
    "# Passing \"inplace=False\" will make a copy of the city_data DataFrame, which we call \"clean_city_data\".\n"
   ]
  },
  {
   "cell_type": "code",
   "execution_count": null,
   "metadata": {},
   "outputs": [],
   "source": [
    "# Extract relevant fields from the data frame\n",
    "\n",
    "\n",
    "# Export the City_Data into a csv\n"
   ]
  },
  {
   "cell_type": "markdown",
   "metadata": {},
   "source": [
    "## Plotting the Data\n",
    "* Use proper labeling of the plots using plot titles (including date of analysis) and axes labels.\n",
    "* Save the plotted figures as .pngs."
   ]
  },
  {
   "cell_type": "markdown",
   "metadata": {},
   "source": [
    "## Latitude vs. Temperature Plot"
   ]
  },
  {
   "cell_type": "code",
   "execution_count": null,
   "metadata": {
    "scrolled": true
   },
   "outputs": [],
   "source": []
  },
  {
   "cell_type": "markdown",
   "metadata": {},
   "source": [
    "## Latitude vs. Humidity Plot"
   ]
  },
  {
   "cell_type": "code",
   "execution_count": null,
   "metadata": {},
   "outputs": [],
   "source": []
  },
  {
   "cell_type": "markdown",
   "metadata": {},
   "source": [
    "## Latitude vs. Cloudiness Plot"
   ]
  },
  {
   "cell_type": "code",
   "execution_count": null,
   "metadata": {},
   "outputs": [],
   "source": []
  },
  {
   "cell_type": "markdown",
   "metadata": {},
   "source": [
    "## Latitude vs. Wind Speed Plot"
   ]
  },
  {
   "cell_type": "code",
   "execution_count": null,
   "metadata": {},
   "outputs": [],
   "source": []
  },
  {
   "cell_type": "markdown",
   "metadata": {},
   "source": [
    "## Linear Regression"
   ]
  },
  {
   "cell_type": "code",
   "execution_count": null,
   "metadata": {},
   "outputs": [],
   "source": [
    "# OPTIONAL: Create a function to create Linear Regression plots"
   ]
  },
  {
   "cell_type": "code",
   "execution_count": null,
   "metadata": {},
   "outputs": [],
   "source": [
    "# Create Northern and Southern Hemisphere DataFrames"
   ]
  },
  {
   "cell_type": "markdown",
   "metadata": {},
   "source": [
    "####  Northern Hemisphere - Max Temp vs. Latitude Linear Regression"
   ]
  },
  {
   "cell_type": "code",
   "execution_count": null,
   "metadata": {},
   "outputs": [],
   "source": []
  },
  {
   "cell_type": "markdown",
   "metadata": {},
   "source": [
    "####  Southern Hemisphere - Max Temp vs. Latitude Linear Regression"
   ]
  },
  {
   "cell_type": "code",
   "execution_count": null,
   "metadata": {},
   "outputs": [],
   "source": []
  },
  {
   "cell_type": "markdown",
   "metadata": {},
   "source": [
    "####  Northern Hemisphere - Humidity (%) vs. Latitude Linear Regression"
   ]
  },
  {
   "cell_type": "code",
   "execution_count": null,
   "metadata": {},
   "outputs": [],
   "source": []
  },
  {
   "cell_type": "markdown",
   "metadata": {},
   "source": [
    "####  Southern Hemisphere - Humidity (%) vs. Latitude Linear Regression"
   ]
  },
  {
   "cell_type": "code",
   "execution_count": null,
   "metadata": {},
   "outputs": [],
   "source": []
  },
  {
   "cell_type": "markdown",
   "metadata": {},
   "source": [
    "####  Northern Hemisphere - Cloudiness (%) vs. Latitude Linear Regression"
   ]
  },
  {
   "cell_type": "code",
   "execution_count": null,
   "metadata": {},
   "outputs": [],
   "source": []
  },
  {
   "cell_type": "markdown",
   "metadata": {},
   "source": [
    "####  Southern Hemisphere - Cloudiness (%) vs. Latitude Linear Regression"
   ]
  },
  {
   "cell_type": "code",
   "execution_count": null,
   "metadata": {},
   "outputs": [],
   "source": []
  },
  {
   "cell_type": "markdown",
   "metadata": {},
   "source": [
    "####  Northern Hemisphere - Wind Speed (mph) vs. Latitude Linear Regression"
   ]
  },
  {
   "cell_type": "code",
   "execution_count": null,
   "metadata": {},
   "outputs": [],
   "source": []
  },
  {
   "cell_type": "markdown",
   "metadata": {},
   "source": [
    "####  Southern Hemisphere - Wind Speed (mph) vs. Latitude Linear Regression"
   ]
  },
  {
   "cell_type": "code",
   "execution_count": null,
   "metadata": {},
   "outputs": [],
   "source": []
  },
  {
   "cell_type": "code",
   "execution_count": null,
   "metadata": {},
   "outputs": [],
   "source": []
  }
 ],
 "metadata": {
  "anaconda-cloud": {},
  "kernel_info": {
   "name": "python3"
  },
  "kernelspec": {
   "display_name": "Python 3.6.10 64-bit ('PythonData': conda)",
   "language": "python",
   "name": "python361064bitpythondatacondae5997a2e410345aaa38bb48a893dd3cc"
  },
  "language_info": {
   "codemirror_mode": {
    "name": "ipython",
    "version": 3
   },
   "file_extension": ".py",
   "mimetype": "text/x-python",
   "name": "python",
   "nbconvert_exporter": "python",
   "pygments_lexer": "ipython3",
   "version": "3.6.10-final"
  },
  "latex_envs": {
   "LaTeX_envs_menu_present": true,
   "autoclose": false,
   "autocomplete": true,
   "bibliofile": "biblio.bib",
   "cite_by": "apalike",
   "current_citInitial": 1,
   "eqLabelWithNumbers": true,
   "eqNumInitial": 1,
   "hotkeys": {
    "equation": "Ctrl-E",
    "itemize": "Ctrl-I"
   },
   "labels_anchors": false,
   "latex_user_defs": false,
   "report_style_numbering": false,
   "user_envs_cfg": false
  },
  "nteract": {
   "version": "0.12.3"
  }
 },
 "nbformat": 4,
 "nbformat_minor": 2
}