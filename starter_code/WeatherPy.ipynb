{
 "cells": [
  {
   "cell_type": "markdown",
   "metadata": {},
   "source": [
    "# WeatherPy\n",
    "----\n",
    "\n",
    "#### Note\n",
    "* Instructions have been included for each segment. You do not have to follow them exactly, but they are included to help you think through the steps."
   ]
  },
  {
   "cell_type": "code",
   "execution_count": 1,
   "metadata": {
    "scrolled": true
   },
   "outputs": [],
   "source": [
    "# Dependencies and Setup\n",
    "import matplotlib.pyplot as plt\n",
    "import pandas as pd\n",
    "import numpy as np\n",
    "import requests\n",
    "import time\n",
    "from scipy.stats import linregress\n",
    "\n",
    "# Import API key\n",
    "from api_keys import weather_api_key\n",
    "\n",
    "# Incorporated citipy to determine city based on latitude and longitude\n",
    "from citipy import citipy\n",
    "\n",
    "# Output File (CSV)\n",
    "output_data_file = \"../output_data/cities.csv\"\n",
    "\n",
    "# Range of latitudes and longitudes\n",
    "lat_range = (-90, 90)\n",
    "lng_range = (-180, 180)"
   ]
  },
  {
   "cell_type": "markdown",
   "metadata": {},
   "source": [
    "## Generate Cities List"
   ]
  },
  {
   "cell_type": "code",
   "execution_count": 2,
   "metadata": {},
   "outputs": [
    {
     "output_type": "execute_result",
     "data": {
      "text/plain": "611"
     },
     "metadata": {},
     "execution_count": 2
    }
   ],
   "source": [
    "# List for holding lat_lngs and cities\n",
    "lat_lngs = []\n",
    "cities = []\n",
    "units = \"imperial\"\n",
    "\n",
    "# Create a set of random lat and lng combinations\n",
    "lats = np.random.uniform(lat_range[0], lat_range[1], size=1500)\n",
    "lngs = np.random.uniform(lng_range[0], lng_range[1], size=1500)\n",
    "lat_lngs = zip(lats, lngs)\n",
    "\n",
    "# Identify nearest city for each lat, lng combination\n",
    "for lat_lng in lat_lngs:\n",
    "    city = citipy.nearest_city(lat_lng[0], lat_lng[1]).city_name\n",
    "    \n",
    "    # If the city is unique, then add it to a our cities list\n",
    "    if city not in cities:\n",
    "        cities.append(city)\n",
    "\n",
    "# Print the city count to confirm sufficient count\n",
    "len(cities)"
   ]
  },
  {
   "cell_type": "markdown",
   "metadata": {},
   "source": [
    "### Perform API Calls\n",
    "* Perform a weather check on each city using a series of successive API calls.\n",
    "* Include a print log of each city as it'sbeing processed (with the city number and city name).\n"
   ]
  },
  {
   "cell_type": "code",
   "execution_count": 3,
   "metadata": {
    "tags": []
   },
   "outputs": [
    {
     "output_type": "stream",
     "name": "stdout",
     "text": "Processing Record 1 of 611: new norfolk\nProcessing Record 2 of 611: geraldton\nCity not found. Skipping...\nProcessing Record 4 of 611: cape town\nProcessing Record 5 of 611: collie\nProcessing Record 6 of 611: rawson\nProcessing Record 7 of 611: bredasdorp\nProcessing Record 8 of 611: airai\nProcessing Record 9 of 611: katsuura\nCity not found. Skipping...\n"
    }
   ],
   "source": [
    "base_url = \"http://api.openweathermap.org/data/2.5/weather?\"\n",
    "name = []\n",
    "lng = []\n",
    "lat = []\n",
    "maxtemp = []\n",
    "humid = []\n",
    "cloud = []\n",
    "windspd = []\n",
    "country = []\n",
    "datetime = []\n",
    "\n",
    "city_number = 0\n",
    "\n",
    "for city in cities[:10]:\n",
    "    q_url = f\"{base_url}q={city}&units={units}&appid={weather_api_key}\"\n",
    "    weather_resp = requests.get(q_url).json()\n",
    "\n",
    "    try:\n",
    "        city_number += 1\n",
    "        \n",
    "        name.append(weather_resp['name'])\n",
    "        lng.append(weather_resp['coord']['lon'])\n",
    "        lat.append(weather_resp['coord']['lat'])\n",
    "        maxtemp.append(weather_resp['main']['temp_max'])\n",
    "        humid.append(weather_resp['main']['humidity'])\n",
    "        cloud.append(weather_resp['clouds']['all'])\n",
    "        windspd.append(weather_resp['wind']['speed'])\n",
    "        country.append(weather_resp['sys']['country'])\n",
    "        datetime.append(weather_resp['dt'])\n",
    "        \n",
    "\n",
    "        print(f\"Processing Record {city_number} of {len(cities)}: {city}\")\n",
    "\n",
    "\n",
    "    except (KeyError, IndexError):\n",
    "        print(\"City not found. Skipping...\")\n",
    "        pass"
   ]
  },
  {
   "cell_type": "code",
   "execution_count": 5,
   "metadata": {},
   "outputs": [
    {
     "output_type": "execute_result",
     "data": {
      "text/plain": "     City Name  Longitude  Latitude  Max Temperature  Humidtiy  \\\n0  New Norfolk     147.06    -42.78            36.00        92   \n1    Geraldton     114.60    -28.77            50.00        71   \n2    Cape Town      18.42    -33.93            53.01        90   \n3       Collie     116.15    -33.37            37.99        87   \n4       Rawson     -65.10    -43.30            44.87        74   \n5   Bredasdorp      20.04    -34.53            55.40        71   \n6        Airai     125.41     -8.93            54.25        91   \n7     Katsuura     140.30     35.13            75.00        95   \n\n   Cloud Coverage  Wind Speed City Country   Date Time  \n0              48        1.88           AU  1594329780  \n1               0       13.87           AU  1594329780  \n2             100        1.01           ZA  1594329780  \n3               0        3.06           AU  1594329780  \n4              98       11.48           AR  1594329781  \n5             100       16.11           ZA  1594329781  \n6              92        3.87           TL  1594329781  \n7              96        4.00           JP  1594329781  ",
      "text/html": "<div>\n<style scoped>\n    .dataframe tbody tr th:only-of-type {\n        vertical-align: middle;\n    }\n\n    .dataframe tbody tr th {\n        vertical-align: top;\n    }\n\n    .dataframe thead th {\n        text-align: right;\n    }\n</style>\n<table border=\"1\" class=\"dataframe\">\n  <thead>\n    <tr style=\"text-align: right;\">\n      <th></th>\n      <th>City Name</th>\n      <th>Longitude</th>\n      <th>Latitude</th>\n      <th>Max Temperature</th>\n      <th>Humidtiy</th>\n      <th>Cloud Coverage</th>\n      <th>Wind Speed</th>\n      <th>City Country</th>\n      <th>Date Time</th>\n    </tr>\n  </thead>\n  <tbody>\n    <tr>\n      <th>0</th>\n      <td>New Norfolk</td>\n      <td>147.06</td>\n      <td>-42.78</td>\n      <td>36.00</td>\n      <td>92</td>\n      <td>48</td>\n      <td>1.88</td>\n      <td>AU</td>\n      <td>1594329780</td>\n    </tr>\n    <tr>\n      <th>1</th>\n      <td>Geraldton</td>\n      <td>114.60</td>\n      <td>-28.77</td>\n      <td>50.00</td>\n      <td>71</td>\n      <td>0</td>\n      <td>13.87</td>\n      <td>AU</td>\n      <td>1594329780</td>\n    </tr>\n    <tr>\n      <th>2</th>\n      <td>Cape Town</td>\n      <td>18.42</td>\n      <td>-33.93</td>\n      <td>53.01</td>\n      <td>90</td>\n      <td>100</td>\n      <td>1.01</td>\n      <td>ZA</td>\n      <td>1594329780</td>\n    </tr>\n    <tr>\n      <th>3</th>\n      <td>Collie</td>\n      <td>116.15</td>\n      <td>-33.37</td>\n      <td>37.99</td>\n      <td>87</td>\n      <td>0</td>\n      <td>3.06</td>\n      <td>AU</td>\n      <td>1594329780</td>\n    </tr>\n    <tr>\n      <th>4</th>\n      <td>Rawson</td>\n      <td>-65.10</td>\n      <td>-43.30</td>\n      <td>44.87</td>\n      <td>74</td>\n      <td>98</td>\n      <td>11.48</td>\n      <td>AR</td>\n      <td>1594329781</td>\n    </tr>\n    <tr>\n      <th>5</th>\n      <td>Bredasdorp</td>\n      <td>20.04</td>\n      <td>-34.53</td>\n      <td>55.40</td>\n      <td>71</td>\n      <td>100</td>\n      <td>16.11</td>\n      <td>ZA</td>\n      <td>1594329781</td>\n    </tr>\n    <tr>\n      <th>6</th>\n      <td>Airai</td>\n      <td>125.41</td>\n      <td>-8.93</td>\n      <td>54.25</td>\n      <td>91</td>\n      <td>92</td>\n      <td>3.87</td>\n      <td>TL</td>\n      <td>1594329781</td>\n    </tr>\n    <tr>\n      <th>7</th>\n      <td>Katsuura</td>\n      <td>140.30</td>\n      <td>35.13</td>\n      <td>75.00</td>\n      <td>95</td>\n      <td>96</td>\n      <td>4.00</td>\n      <td>JP</td>\n      <td>1594329781</td>\n    </tr>\n  </tbody>\n</table>\n</div>"
     },
     "metadata": {},
     "execution_count": 5
    }
   ],
   "source": [
    "city_summary = pd.DataFrame({\"City Name\": name,\n",
    "                            \"Longitude\": lng,\n",
    "                            \"Latitude\": lat,\n",
    "                            \"Max Temperature\": maxtemp,\n",
    "                            \"Humidtiy\": humid,\n",
    "                            \"Cloud Coverage\": cloud,\n",
    "                            \"Wind Speed\": windspd,\n",
    "                            \"City Country\": country,\n",
    "                            \"Date Time\": datetime})\n",
    "city_summary"
   ]
  },
  {
   "cell_type": "markdown",
   "metadata": {},
   "source": [
    "### Convert Raw Data to DataFrame\n",
    "* Export the city data into a .csv.\n",
    "* Display the DataFrame"
   ]
  },
  {
   "cell_type": "code",
   "execution_count": null,
   "metadata": {},
   "outputs": [],
   "source": []
  },
  {
   "cell_type": "code",
   "execution_count": null,
   "metadata": {},
   "outputs": [],
   "source": []
  },
  {
   "cell_type": "markdown",
   "metadata": {},
   "source": [
    "## Inspect the data and remove the cities where the humidity > 100%.\n",
    "----\n",
    "Skip this step if there are no cities that have humidity > 100%. "
   ]
  },
  {
   "cell_type": "code",
   "execution_count": null,
   "metadata": {},
   "outputs": [],
   "source": []
  },
  {
   "cell_type": "code",
   "execution_count": null,
   "metadata": {},
   "outputs": [],
   "source": [
    "#  Get the indices of cities that have humidity over 100%.\n"
   ]
  },
  {
   "cell_type": "code",
   "execution_count": null,
   "metadata": {},
   "outputs": [],
   "source": [
    "# Make a new DataFrame equal to the city data to drop all humidity outliers by index.\n",
    "# Passing \"inplace=False\" will make a copy of the city_data DataFrame, which we call \"clean_city_data\".\n"
   ]
  },
  {
   "cell_type": "code",
   "execution_count": null,
   "metadata": {},
   "outputs": [],
   "source": [
    "# Extract relevant fields from the data frame\n",
    "\n",
    "\n",
    "# Export the City_Data into a csv\n"
   ]
  },
  {
   "cell_type": "markdown",
   "metadata": {},
   "source": [
    "## Plotting the Data\n",
    "* Use proper labeling of the plots using plot titles (including date of analysis) and axes labels.\n",
    "* Save the plotted figures as .pngs."
   ]
  },
  {
   "cell_type": "markdown",
   "metadata": {},
   "source": [
    "## Latitude vs. Temperature Plot"
   ]
  },
  {
   "cell_type": "code",
   "execution_count": null,
   "metadata": {
    "scrolled": true
   },
   "outputs": [],
   "source": []
  },
  {
   "cell_type": "markdown",
   "metadata": {},
   "source": [
    "## Latitude vs. Humidity Plot"
   ]
  },
  {
   "cell_type": "code",
   "execution_count": null,
   "metadata": {},
   "outputs": [],
   "source": []
  },
  {
   "cell_type": "markdown",
   "metadata": {},
   "source": [
    "## Latitude vs. Cloudiness Plot"
   ]
  },
  {
   "cell_type": "code",
   "execution_count": null,
   "metadata": {},
   "outputs": [],
   "source": []
  },
  {
   "cell_type": "markdown",
   "metadata": {},
   "source": [
    "## Latitude vs. Wind Speed Plot"
   ]
  },
  {
   "cell_type": "code",
   "execution_count": null,
   "metadata": {},
   "outputs": [],
   "source": []
  },
  {
   "cell_type": "markdown",
   "metadata": {},
   "source": [
    "## Linear Regression"
   ]
  },
  {
   "cell_type": "code",
   "execution_count": null,
   "metadata": {},
   "outputs": [],
   "source": [
    "# OPTIONAL: Create a function to create Linear Regression plots"
   ]
  },
  {
   "cell_type": "code",
   "execution_count": null,
   "metadata": {},
   "outputs": [],
   "source": [
    "# Create Northern and Southern Hemisphere DataFrames"
   ]
  },
  {
   "cell_type": "markdown",
   "metadata": {},
   "source": [
    "####  Northern Hemisphere - Max Temp vs. Latitude Linear Regression"
   ]
  },
  {
   "cell_type": "code",
   "execution_count": null,
   "metadata": {},
   "outputs": [],
   "source": []
  },
  {
   "cell_type": "markdown",
   "metadata": {},
   "source": [
    "####  Southern Hemisphere - Max Temp vs. Latitude Linear Regression"
   ]
  },
  {
   "cell_type": "code",
   "execution_count": null,
   "metadata": {},
   "outputs": [],
   "source": []
  },
  {
   "cell_type": "markdown",
   "metadata": {},
   "source": [
    "####  Northern Hemisphere - Humidity (%) vs. Latitude Linear Regression"
   ]
  },
  {
   "cell_type": "code",
   "execution_count": null,
   "metadata": {},
   "outputs": [],
   "source": []
  },
  {
   "cell_type": "markdown",
   "metadata": {},
   "source": [
    "####  Southern Hemisphere - Humidity (%) vs. Latitude Linear Regression"
   ]
  },
  {
   "cell_type": "code",
   "execution_count": null,
   "metadata": {},
   "outputs": [],
   "source": []
  },
  {
   "cell_type": "markdown",
   "metadata": {},
   "source": [
    "####  Northern Hemisphere - Cloudiness (%) vs. Latitude Linear Regression"
   ]
  },
  {
   "cell_type": "code",
   "execution_count": null,
   "metadata": {},
   "outputs": [],
   "source": []
  },
  {
   "cell_type": "markdown",
   "metadata": {},
   "source": [
    "####  Southern Hemisphere - Cloudiness (%) vs. Latitude Linear Regression"
   ]
  },
  {
   "cell_type": "code",
   "execution_count": null,
   "metadata": {},
   "outputs": [],
   "source": []
  },
  {
   "cell_type": "markdown",
   "metadata": {},
   "source": [
    "####  Northern Hemisphere - Wind Speed (mph) vs. Latitude Linear Regression"
   ]
  },
  {
   "cell_type": "code",
   "execution_count": null,
   "metadata": {},
   "outputs": [],
   "source": []
  },
  {
   "cell_type": "markdown",
   "metadata": {},
   "source": [
    "####  Southern Hemisphere - Wind Speed (mph) vs. Latitude Linear Regression"
   ]
  },
  {
   "cell_type": "code",
   "execution_count": null,
   "metadata": {},
   "outputs": [],
   "source": []
  },
  {
   "cell_type": "code",
   "execution_count": null,
   "metadata": {},
   "outputs": [],
   "source": []
  }
 ],
 "metadata": {
  "anaconda-cloud": {},
  "kernel_info": {
   "name": "python3"
  },
  "kernelspec": {
   "display_name": "Python 3.6.10 64-bit ('PythonData': conda)",
   "language": "python",
   "name": "python361064bitpythondatacondae5997a2e410345aaa38bb48a893dd3cc"
  },
  "language_info": {
   "codemirror_mode": {
    "name": "ipython",
    "version": 3
   },
   "file_extension": ".py",
   "mimetype": "text/x-python",
   "name": "python",
   "nbconvert_exporter": "python",
   "pygments_lexer": "ipython3",
   "version": "3.6.10-final"
  },
  "latex_envs": {
   "LaTeX_envs_menu_present": true,
   "autoclose": false,
   "autocomplete": true,
   "bibliofile": "biblio.bib",
   "cite_by": "apalike",
   "current_citInitial": 1,
   "eqLabelWithNumbers": true,
   "eqNumInitial": 1,
   "hotkeys": {
    "equation": "Ctrl-E",
    "itemize": "Ctrl-I"
   },
   "labels_anchors": false,
   "latex_user_defs": false,
   "report_style_numbering": false,
   "user_envs_cfg": false
  },
  "nteract": {
   "version": "0.12.3"
  }
 },
 "nbformat": 4,
 "nbformat_minor": 2
}