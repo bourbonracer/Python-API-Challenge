{
 "cells": [
  {
   "cell_type": "markdown",
   "metadata": {},
   "source": [
    "# WeatherPy\n",
    "----\n",
    "\n",
    "#### Note\n",
    "* Instructions have been included for each segment. You do not have to follow them exactly, but they are included to help you think through the steps."
   ]
  },
  {
   "cell_type": "code",
   "execution_count": 2,
   "metadata": {
    "scrolled": true
   },
   "outputs": [],
   "source": [
    "# Dependencies and Setup\n",
    "import matplotlib.pyplot as plt\n",
    "import pandas as pd\n",
    "import numpy as np\n",
    "import requests\n",
    "import time\n",
    "from scipy.stats import linregress\n",
    "\n",
    "# Import API key\n",
    "from api_keys import weather_api_key\n",
    "\n",
    "# Incorporated citipy to determine city based on latitude and longitude\n",
    "from citipy import citipy\n",
    "\n",
    "# Output File (CSV)\n",
    "output_data_file = \"../output_data/cities.csv\"\n",
    "\n",
    "# Range of latitudes and longitudes\n",
    "lat_range = (-90, 90)\n",
    "lng_range = (-180, 180)"
   ]
  },
  {
   "cell_type": "markdown",
   "metadata": {},
   "source": [
    "## Generate Cities List"
   ]
  },
  {
   "cell_type": "code",
   "execution_count": 3,
   "metadata": {},
   "outputs": [
    {
     "output_type": "execute_result",
     "data": {
      "text/plain": "632"
     },
     "metadata": {},
     "execution_count": 3
    }
   ],
   "source": [
    "# List for holding lat_lngs and cities\n",
    "lat_lngs = []\n",
    "cities = []\n",
    "units = \"imperial\"\n",
    "\n",
    "# Create a set of random lat and lng combinations\n",
    "lats = np.random.uniform(lat_range[0], lat_range[1], size=1500)\n",
    "lngs = np.random.uniform(lng_range[0], lng_range[1], size=1500)\n",
    "lat_lngs = zip(lats, lngs)\n",
    "\n",
    "# Identify nearest city for each lat, lng combination\n",
    "for lat_lng in lat_lngs:\n",
    "    city = citipy.nearest_city(lat_lng[0], lat_lng[1]).city_name\n",
    "    \n",
    "    # If the city is unique, then add it to a our cities list\n",
    "    if city not in cities:\n",
    "        cities.append(city)\n",
    "\n",
    "# Print the city count to confirm sufficient count\n",
    "len(cities)"
   ]
  },
  {
   "cell_type": "markdown",
   "metadata": {},
   "source": [
    "### Perform API Calls\n",
    "* Perform a weather check on each city using a series of successive API calls.\n",
    "* Include a print log of each city as it'sbeing processed (with the city number and city name).\n"
   ]
  },
  {
   "cell_type": "code",
   "execution_count": 5,
   "metadata": {
    "tags": [
     "outputPrepend"
    ]
   },
   "outputs": [
    {
     "output_type": "stream",
     "name": "stdout",
     "text": "iki\nProcessing Record 110 of 632: ouesso\nProcessing Record 111 of 632: coruripe\nProcessing Record 112 of 632: vila franca do campo\nProcessing Record 113 of 632: pottsville\nProcessing Record 114 of 632: kharp\nProcessing Record 115 of 632: batticaloa\nCity not found. Skipping...\nProcessing Record 117 of 632: nerl\nProcessing Record 118 of 632: geraldton\nProcessing Record 119 of 632: norman wells\nProcessing Record 120 of 632: myre\nProcessing Record 121 of 632: cape town\nProcessing Record 122 of 632: namibe\nProcessing Record 123 of 632: bethel\nProcessing Record 124 of 632: buzmeyin\nProcessing Record 125 of 632: oranjemund\nCity not found. Skipping...\nProcessing Record 127 of 632: horki\nProcessing Record 128 of 632: hirara\nProcessing Record 129 of 632: grindavik\nProcessing Record 130 of 632: praia da vitoria\nProcessing Record 131 of 632: saint-augustin\nProcessing Record 132 of 632: katsuura\nProcessing Record 133 of 632: pangai\nProcessing Record 134 of 632: te anau\nProcessing Record 135 of 632: balakhninskiy\nProcessing Record 136 of 632: bambous virieux\nProcessing Record 137 of 632: trincomalee\nProcessing Record 138 of 632: teguise\nProcessing Record 139 of 632: lexington\nProcessing Record 140 of 632: la palma\nProcessing Record 141 of 632: davydovo\nProcessing Record 142 of 632: laguna\nProcessing Record 143 of 632: hobyo\nProcessing Record 144 of 632: maitum\nProcessing Record 145 of 632: carlisle\nProcessing Record 146 of 632: victoria\nProcessing Record 147 of 632: varhaug\nProcessing Record 148 of 632: salalah\nProcessing Record 149 of 632: pierre\nProcessing Record 150 of 632: bardiyah\nProcessing Record 151 of 632: yei\nProcessing Record 152 of 632: ponta do sol\nProcessing Record 153 of 632: vila velha\nProcessing Record 154 of 632: tadine\nProcessing Record 155 of 632: kruisfontein\nProcessing Record 156 of 632: elliot lake\nProcessing Record 157 of 632: mahebourg\nProcessing Record 158 of 632: casper\nProcessing Record 159 of 632: tarsus\nProcessing Record 160 of 632: hithadhoo\nProcessing Record 161 of 632: beloha\nProcessing Record 162 of 632: nisia floresta\nProcessing Record 163 of 632: arkhara\nProcessing Record 164 of 632: kakonko\nCity not found. Skipping...\nCity not found. Skipping...\nProcessing Record 167 of 632: santa fe\nProcessing Record 168 of 632: batemans bay\nProcessing Record 169 of 632: sao filipe\nProcessing Record 170 of 632: gorshechnoye\nProcessing Record 171 of 632: fukue\nCity not found. Skipping...\nProcessing Record 173 of 632: faanui\nProcessing Record 174 of 632: vung tau\nProcessing Record 175 of 632: bangassou\nProcessing Record 176 of 632: kyabram\nProcessing Record 177 of 632: saint-louis\nProcessing Record 178 of 632: gornji milanovac\nCity not found. Skipping...\nProcessing Record 180 of 632: jizan\nProcessing Record 181 of 632: upernavik\nProcessing Record 182 of 632: spokane\nProcessing Record 183 of 632: avarua\nProcessing Record 184 of 632: tautira\nProcessing Record 185 of 632: mon\nProcessing Record 186 of 632: paamiut\nProcessing Record 187 of 632: sitka\nProcessing Record 188 of 632: gubkinskiy\nProcessing Record 189 of 632: alta floresta\nProcessing Record 190 of 632: pevek\nProcessing Record 191 of 632: carnarvon\nProcessing Record 192 of 632: sabha\nCity not found. Skipping...\nProcessing Record 194 of 632: nieves\nCity not found. Skipping...\nProcessing Record 196 of 632: kununurra\nProcessing Record 197 of 632: kaitangata\nProcessing Record 198 of 632: dunedin\nProcessing Record 199 of 632: sampit\nProcessing Record 200 of 632: abnub\nProcessing Record 201 of 632: almaznyy\nProcessing Record 202 of 632: saint anthony\nProcessing Record 203 of 632: kontagora\nProcessing Record 204 of 632: lasa\nProcessing Record 205 of 632: camopi\nProcessing Record 206 of 632: airai\nCity not found. Skipping...\nProcessing Record 208 of 632: buchanan\nProcessing Record 209 of 632: saint-francois\nProcessing Record 210 of 632: canto do buriti\nProcessing Record 211 of 632: coari\nProcessing Record 212 of 632: vostok\nProcessing Record 213 of 632: kyaikkami\nProcessing Record 214 of 632: souris\nProcessing Record 215 of 632: atar\nProcessing Record 216 of 632: saint-joseph\nProcessing Record 217 of 632: husavik\nProcessing Record 218 of 632: touros\nProcessing Record 219 of 632: puerto ayora\nProcessing Record 220 of 632: ellensburg\nProcessing Record 221 of 632: cobija\nProcessing Record 222 of 632: new norfolk\nProcessing Record 223 of 632: kudahuvadhoo\nCity not found. Skipping...\nProcessing Record 225 of 632: wajima\nProcessing Record 226 of 632: pangnirtung\nProcessing Record 227 of 632: nabire\nProcessing Record 228 of 632: dikson\nProcessing Record 229 of 632: castro\nProcessing Record 230 of 632: tarazona\nProcessing Record 231 of 632: nemuro\nProcessing Record 232 of 632: baghdogra\nProcessing Record 233 of 632: korla\nProcessing Record 234 of 632: shahganj\nProcessing Record 235 of 632: owosso\nProcessing Record 236 of 632: henties bay\nProcessing Record 237 of 632: tchamba\nCity not found. Skipping...\nProcessing Record 239 of 632: teknaf\nProcessing Record 240 of 632: weligama\nProcessing Record 241 of 632: buckeye\nProcessing Record 242 of 632: belle fourche\nProcessing Record 243 of 632: naron\nProcessing Record 244 of 632: shakhtinsk\nProcessing Record 245 of 632: ahipara\nProcessing Record 246 of 632: saint-philippe\nProcessing Record 247 of 632: lerida\nProcessing Record 248 of 632: redlands\nProcessing Record 249 of 632: waingapu\nProcessing Record 250 of 632: kavieng\nProcessing Record 251 of 632: klamath falls\nProcessing Record 252 of 632: avera\nProcessing Record 253 of 632: luderitz\nProcessing Record 254 of 632: nurota\nProcessing Record 255 of 632: dingle\nProcessing Record 256 of 632: padang\nProcessing Record 257 of 632: mantua\nProcessing Record 258 of 632: barrow\nProcessing Record 259 of 632: lazaro cardenas\nCity not found. Skipping...\nProcessing Record 261 of 632: pa sang\nProcessing Record 262 of 632: indianola\nProcessing Record 263 of 632: bobrovytsya\nProcessing Record 264 of 632: port hawkesbury\nCity not found. Skipping...\nProcessing Record 266 of 632: sullana\nProcessing Record 267 of 632: isangel\nProcessing Record 268 of 632: arraial do cabo\nProcessing Record 269 of 632: sura\nProcessing Record 270 of 632: chicama\nProcessing Record 271 of 632: balagansk\nCity not found. Skipping...\nProcessing Record 273 of 632: hagdan\nProcessing Record 274 of 632: alanya\nProcessing Record 275 of 632: tarauaca\nProcessing Record 276 of 632: verkhoyansk\nProcessing Record 277 of 632: muroto\nProcessing Record 278 of 632: san jose de guanipa\nCity not found. Skipping...\nProcessing Record 280 of 632: amga\nProcessing Record 281 of 632: severo-yeniseyskiy\nProcessing Record 282 of 632: souillac\nProcessing Record 283 of 632: port macquarie\nProcessing Record 284 of 632: murray bridge\nProcessing Record 285 of 632: ylivieska\nProcessing Record 286 of 632: pacific grove\nProcessing Record 287 of 632: nelspruit\nProcessing Record 288 of 632: aklavik\nProcessing Record 289 of 632: qaanaaq\nProcessing Record 290 of 632: lebu\nProcessing Record 291 of 632: bilma\nProcessing Record 292 of 632: soyo\nProcessing Record 293 of 632: kirakira\nProcessing Record 294 of 632: ekibastuz\nProcessing Record 295 of 632: krasnoborsk\nProcessing Record 296 of 632: nadym\nProcessing Record 297 of 632: hofn\nProcessing Record 298 of 632: basco\nProcessing Record 299 of 632: pisco\nCity not found. Skipping...\nProcessing Record 301 of 632: nioro\nProcessing Record 302 of 632: aktau\nProcessing Record 303 of 632: staraya stanitsa\nProcessing Record 304 of 632: stykkisholmur\nProcessing Record 305 of 632: alofi\nProcessing Record 306 of 632: dhidhdhoo\nProcessing Record 307 of 632: cururupu\nProcessing Record 308 of 632: vikhorevka\nProcessing Record 309 of 632: marrakesh\nProcessing Record 310 of 632: huarmey\nProcessing Record 311 of 632: constitucion\nProcessing Record 312 of 632: jhang\nProcessing Record 313 of 632: usinsk\nCity not found. Skipping...\nProcessing Record 315 of 632: aquiraz\nProcessing Record 316 of 632: moose factory\nProcessing Record 317 of 632: bengkulu\nProcessing Record 318 of 632: klaksvik\nProcessing Record 319 of 632: locri\nProcessing Record 320 of 632: ouango\nProcessing Record 321 of 632: itacoatiara\nProcessing Record 322 of 632: hualmay\nProcessing Record 323 of 632: inuvik\nProcessing Record 324 of 632: turukhansk\nProcessing Record 325 of 632: batagay-alyta\nCity not found. Skipping...\nProcessing Record 327 of 632: bucksport\nProcessing Record 328 of 632: tanggu\nProcessing Record 329 of 632: basoko\nProcessing Record 330 of 632: nanortalik\nProcessing Record 331 of 632: emerald\nProcessing Record 332 of 632: banda aceh\nProcessing Record 333 of 632: akdepe\nProcessing Record 334 of 632: hami\nProcessing Record 335 of 632: annau\nProcessing Record 336 of 632: san policarpo\nProcessing Record 337 of 632: mingaora\nCity not found. Skipping...\nProcessing Record 339 of 632: ossora\nProcessing Record 340 of 632: phayakkhaphum phisai\nProcessing Record 341 of 632: padilla\nCity not found. Skipping...\nProcessing Record 343 of 632: charters towers\nProcessing Record 344 of 632: cabedelo\nProcessing Record 345 of 632: saskylakh\nProcessing Record 346 of 632: flinders\nCity not found. Skipping...\nProcessing Record 348 of 632: pacifica\nProcessing Record 349 of 632: robertsport\nProcessing Record 350 of 632: saskatoon\nProcessing Record 351 of 632: riyadh\nProcessing Record 352 of 632: pula\nProcessing Record 353 of 632: gigmoto\nProcessing Record 354 of 632: lompoc\nProcessing Record 355 of 632: oktyabrskiy\nProcessing Record 356 of 632: petropavlovsk-kamchatskiy\nProcessing Record 357 of 632: amuntai\nProcessing Record 358 of 632: requena\nProcessing Record 359 of 632: yagodnoye\nProcessing Record 360 of 632: labuhan\nProcessing Record 361 of 632: yeppoon\nProcessing Record 362 of 632: taltal\nProcessing Record 363 of 632: chernyshevskiy\nProcessing Record 364 of 632: baykit\nProcessing Record 365 of 632: goderich\nProcessing Record 366 of 632: levelland\nProcessing Record 367 of 632: leningradskiy\nProcessing Record 368 of 632: fort nelson\nProcessing Record 369 of 632: caravelas\nCity not found. Skipping...\nProcessing Record 371 of 632: riviere-au-renard\nProcessing Record 372 of 632: jangipur\nProcessing Record 373 of 632: olden\nProcessing Record 374 of 632: nikolskoye\nProcessing Record 375 of 632: campobasso\nProcessing Record 376 of 632: fortuna\nProcessing Record 377 of 632: mantiquil\nProcessing Record 378 of 632: trelew\nProcessing Record 379 of 632: allonnes\nProcessing Record 380 of 632: catanzaro\nProcessing Record 381 of 632: chalus\nCity not found. Skipping...\nProcessing Record 383 of 632: houma\nProcessing Record 384 of 632: kovdor\nProcessing Record 385 of 632: yatou\nProcessing Record 386 of 632: lixourion\nProcessing Record 387 of 632: katobu\nProcessing Record 388 of 632: hasaki\nProcessing Record 389 of 632: oktyabrskoye\nProcessing Record 390 of 632: lorengau\nProcessing Record 391 of 632: atambua\nCity not found. Skipping...\nProcessing Record 393 of 632: yumen\nProcessing Record 394 of 632: nayagarh\nProcessing Record 395 of 632: bukachacha\nProcessing Record 396 of 632: skjervoy\nCity not found. Skipping...\nProcessing Record 398 of 632: fairbanks\nProcessing Record 399 of 632: miandrivazo\nProcessing Record 400 of 632: lerwick\nProcessing Record 401 of 632: port lincoln\nProcessing Record 402 of 632: ledyard\nProcessing Record 403 of 632: mecca\nProcessing Record 404 of 632: chimbote\nCity not found. Skipping...\nProcessing Record 406 of 632: osinki\nProcessing Record 407 of 632: longyearbyen\nProcessing Record 408 of 632: ocean city\nProcessing Record 409 of 632: coahuayana\nProcessing Record 410 of 632: nouadhibou\nProcessing Record 411 of 632: kieta\nProcessing Record 412 of 632: haines junction\nProcessing Record 413 of 632: necochea\nProcessing Record 414 of 632: pringsewu\nProcessing Record 415 of 632: meulaboh\nProcessing Record 416 of 632: sakakah\nProcessing Record 417 of 632: bandarbeyla\nProcessing Record 418 of 632: sur\nProcessing Record 419 of 632: hovd\nProcessing Record 420 of 632: esperance\nProcessing Record 421 of 632: sao felix do xingu\nProcessing Record 422 of 632: glenwood springs\nProcessing Record 423 of 632: great falls\nProcessing Record 424 of 632: buraydah\nProcessing Record 425 of 632: zhigalovo\nProcessing Record 426 of 632: talnakh\nProcessing Record 427 of 632: clyde river\nProcessing Record 428 of 632: nouakchott\nProcessing Record 429 of 632: gisborne\nProcessing Record 430 of 632: monterey\nProcessing Record 431 of 632: mazara del vallo\nProcessing Record 432 of 632: adrar\nProcessing Record 433 of 632: san martin\nProcessing Record 434 of 632: ukiah\nProcessing Record 435 of 632: bay roberts\nProcessing Record 436 of 632: kedrovyy\nProcessing Record 437 of 632: alvorada\nProcessing Record 438 of 632: iwaki\nProcessing Record 439 of 632: charlestown\nProcessing Record 440 of 632: mehran\nProcessing Record 441 of 632: vardo\nCity not found. Skipping...\nProcessing Record 443 of 632: heihe\nProcessing Record 444 of 632: tromso\nProcessing Record 445 of 632: rognan\nProcessing Record 446 of 632: ivdel\nProcessing Record 447 of 632: port huron\nProcessing Record 448 of 632: altagracia de orituco\nProcessing Record 449 of 632: taoudenni\nCity not found. Skipping...\nProcessing Record 451 of 632: russell\nProcessing Record 452 of 632: andros town\nCity not found. Skipping...\nProcessing Record 454 of 632: codrington\nProcessing Record 455 of 632: bandar\nProcessing Record 456 of 632: ancud\nProcessing Record 457 of 632: arman\nProcessing Record 458 of 632: richmond\nProcessing Record 459 of 632: shimoda\nProcessing Record 460 of 632: north platte\nProcessing Record 461 of 632: muros\nProcessing Record 462 of 632: manthani\nProcessing Record 463 of 632: luoyang\nProcessing Record 464 of 632: sept-iles\nProcessing Record 465 of 632: cochrane\nProcessing Record 466 of 632: asau\nProcessing Record 467 of 632: nanchang\nProcessing Record 468 of 632: gizo\nProcessing Record 469 of 632: uray\nProcessing Record 470 of 632: mogadishu\nProcessing Record 471 of 632: loa janan\nProcessing Record 472 of 632: tura\nProcessing Record 473 of 632: comodoro rivadavia\nProcessing Record 474 of 632: puebloviejo\nProcessing Record 475 of 632: yongan\nProcessing Record 476 of 632: papar\nProcessing Record 477 of 632: darnah\nProcessing Record 478 of 632: kharagpur\nProcessing Record 479 of 632: broken hill\nProcessing Record 480 of 632: preobrazheniye\nCity not found. Skipping...\nProcessing Record 482 of 632: atocha\nProcessing Record 483 of 632: mandera\nProcessing Record 484 of 632: goure\nProcessing Record 485 of 632: ploemeur\nProcessing Record 486 of 632: viedma\nProcessing Record 487 of 632: sambava\nProcessing Record 488 of 632: chancay\nProcessing Record 489 of 632: havre-saint-pierre\nProcessing Record 490 of 632: sangar\nProcessing Record 491 of 632: moorhead\nProcessing Record 492 of 632: semnan\nProcessing Record 493 of 632: olafsvik\nProcessing Record 494 of 632: zeya\nProcessing Record 495 of 632: petatlan\nProcessing Record 496 of 632: ankpa\nProcessing Record 497 of 632: tchaourou\nProcessing Record 498 of 632: bud\nProcessing Record 499 of 632: santarem\nProcessing Record 500 of 632: mirwah\nProcessing Record 501 of 632: ust-kulom\nProcessing Record 502 of 632: dourbali\nProcessing Record 503 of 632: abha\nProcessing Record 504 of 632: birao\nProcessing Record 505 of 632: saiki\nProcessing Record 506 of 632: sredniy ikorets\nCity not found. Skipping...\nProcessing Record 508 of 632: katima mulilo\nProcessing Record 509 of 632: siculeni\nProcessing Record 510 of 632: baherden\nProcessing Record 511 of 632: zhigansk\nCity not found. Skipping...\nProcessing Record 513 of 632: el corpus\nProcessing Record 514 of 632: tulun\nProcessing Record 515 of 632: srandakan\nProcessing Record 516 of 632: barcelos\nProcessing Record 517 of 632: vanavara\nProcessing Record 518 of 632: takoradi\nCity not found. Skipping...\nProcessing Record 520 of 632: tezu\nProcessing Record 521 of 632: guerrero negro\nProcessing Record 522 of 632: coquimbo\nCity not found. Skipping...\nProcessing Record 524 of 632: kamenka\nProcessing Record 525 of 632: sinazongwe\nProcessing Record 526 of 632: hirado\nCity not found. Skipping...\nProcessing Record 528 of 632: loukhi\nProcessing Record 529 of 632: bousso\nProcessing Record 530 of 632: iracoubo\nProcessing Record 531 of 632: zaqatala\nProcessing Record 532 of 632: kabompo\nProcessing Record 533 of 632: istok\nProcessing Record 534 of 632: sibolga\nProcessing Record 535 of 632: port hedland\nProcessing Record 536 of 632: yerbogachen\nProcessing Record 537 of 632: sungairaya\nProcessing Record 538 of 632: sobolevo\nProcessing Record 539 of 632: wernigerode\nProcessing Record 540 of 632: altamont\nProcessing Record 541 of 632: yele\nProcessing Record 542 of 632: san cristobal\nProcessing Record 543 of 632: asosa\nProcessing Record 544 of 632: bhag\nProcessing Record 545 of 632: baracoa\nProcessing Record 546 of 632: eyl\nProcessing Record 547 of 632: dalby\nProcessing Record 548 of 632: berdigestyakh\nProcessing Record 549 of 632: hurghada\nProcessing Record 550 of 632: garissa\nProcessing Record 551 of 632: pombas\nProcessing Record 552 of 632: tooele\nProcessing Record 553 of 632: lakatoro\nProcessing Record 554 of 632: voorst\nProcessing Record 555 of 632: mogok\nProcessing Record 556 of 632: impfondo\nProcessing Record 557 of 632: petropavlovka\nProcessing Record 558 of 632: rosarito\nProcessing Record 559 of 632: calvinia\nProcessing Record 560 of 632: port hardy\nProcessing Record 561 of 632: kangaatsiaq\nProcessing Record 562 of 632: don benito\nCity not found. Skipping...\nProcessing Record 564 of 632: ballina\nProcessing Record 565 of 632: zonguldak\nProcessing Record 566 of 632: ciudad bolivar\nProcessing Record 567 of 632: kawalu\nCity not found. Skipping...\nProcessing Record 569 of 632: marsala\nProcessing Record 570 of 632: ostrovnoy\nProcessing Record 571 of 632: lima\nProcessing Record 572 of 632: itoman\nProcessing Record 573 of 632: bouca\nProcessing Record 574 of 632: ananas\nProcessing Record 575 of 632: strathpeffer\nCity not found. Skipping...\nProcessing Record 577 of 632: mulchen\nProcessing Record 578 of 632: shakawe\nCity not found. Skipping...\nProcessing Record 580 of 632: bushehr\nProcessing Record 581 of 632: naberera\nCity not found. Skipping...\nProcessing Record 583 of 632: beinamar\nProcessing Record 584 of 632: mariahu\nProcessing Record 585 of 632: de haan\nProcessing Record 586 of 632: terrace\nProcessing Record 587 of 632: bojnurd\nProcessing Record 588 of 632: srednekolymsk\nProcessing Record 589 of 632: berlevag\nProcessing Record 590 of 632: gimli\nProcessing Record 591 of 632: ust-kalmanka\nProcessing Record 592 of 632: harnoli\nProcessing Record 593 of 632: jacareacanga\nProcessing Record 594 of 632: nara\nProcessing Record 595 of 632: cherskiy\nProcessing Record 596 of 632: khani\nProcessing Record 597 of 632: yuriria\nProcessing Record 598 of 632: cranbrook\nProcessing Record 599 of 632: punta alta\nProcessing Record 600 of 632: byron bay\nProcessing Record 601 of 632: mazatlan\nProcessing Record 602 of 632: cairns\nProcessing Record 603 of 632: malakal\nProcessing Record 604 of 632: biak\nProcessing Record 605 of 632: dakar\nCity not found. Skipping...\nProcessing Record 607 of 632: kenai\nCity not found. Skipping...\nProcessing Record 609 of 632: cuamba\nProcessing Record 610 of 632: bosaso\nProcessing Record 611 of 632: nuuk\nProcessing Record 612 of 632: mareeba\nProcessing Record 613 of 632: mahanoro\nProcessing Record 614 of 632: jiayuguan\nCity not found. Skipping...\nProcessing Record 616 of 632: quatre cocos\nProcessing Record 617 of 632: okhotsk\nCity not found. Skipping...\nProcessing Record 619 of 632: jaynagar-majilpur\nProcessing Record 620 of 632: taldan\nProcessing Record 621 of 632: ruston\nProcessing Record 622 of 632: san fernando\nProcessing Record 623 of 632: mayo\nProcessing Record 624 of 632: kahului\nCity not found. Skipping...\nCity not found. Skipping...\nProcessing Record 627 of 632: suntar\nProcessing Record 628 of 632: nishihara\nProcessing Record 629 of 632: murdochville\nProcessing Record 630 of 632: san pedro\nProcessing Record 631 of 632: lhokseumawe\nProcessing Record 632 of 632: northam\n"
    }
   ],
   "source": [
    "base_url = \"http://api.openweathermap.org/data/2.5/weather?\"\n",
    "name = []\n",
    "lng = []\n",
    "lat = []\n",
    "maxtemp = []\n",
    "humid = []\n",
    "cloud = []\n",
    "windspd = []\n",
    "country = []\n",
    "datetime = []\n",
    "\n",
    "city_number = 0\n",
    "\n",
    "for city in cities:\n",
    "    q_url = f\"{base_url}q={city}&units={units}&appid={weather_api_key}\"\n",
    "    weather_resp = requests.get(q_url).json()\n",
    "\n",
    "    try:\n",
    "        city_number += 1\n",
    "        \n",
    "        name.append(weather_resp['name'])\n",
    "        lng.append(weather_resp['coord']['lon'])\n",
    "        lat.append(weather_resp['coord']['lat'])\n",
    "        maxtemp.append(weather_resp['main']['temp_max'])\n",
    "        humid.append(weather_resp['main']['humidity'])\n",
    "        cloud.append(weather_resp['clouds']['all'])\n",
    "        windspd.append(weather_resp['wind']['speed'])\n",
    "        country.append(weather_resp['sys']['country'])\n",
    "        datetime.append(weather_resp['dt'])\n",
    "        \n",
    "\n",
    "        print(f\"Processing Record {city_number} of {len(cities)}: {city}\")\n",
    "\n",
    "\n",
    "    except (KeyError, IndexError):\n",
    "        print(\"City not found. Skipping...\")\n",
    "        pass"
   ]
  },
  {
   "cell_type": "code",
   "execution_count": 6,
   "metadata": {},
   "outputs": [
    {
     "output_type": "execute_result",
     "data": {
      "text/plain": "     City Name  Longitude  Latitude  Max Temperature  Humidtiy  \\\n0     Hermanus      19.23    -34.42            50.00        91   \n1     Khatanga     102.50     71.97            56.19        55   \n2      Iqaluit     -68.51     63.75            48.20        76   \n3  Yellowknife    -114.35     62.46            68.00        48   \n4    Katherine     132.27    -14.47            78.80        54   \n\n   Cloud Coverage  Wind Speed City Country   Date Time  \n0             100       11.32           ZA  1594342872  \n1               0       18.70           RU  1594342873  \n2              75        4.70           CA  1594342752  \n3              75        9.17           CA  1594342542  \n4               1        9.17           AU  1594342873  ",
      "text/html": "<div>\n<style scoped>\n    .dataframe tbody tr th:only-of-type {\n        vertical-align: middle;\n    }\n\n    .dataframe tbody tr th {\n        vertical-align: top;\n    }\n\n    .dataframe thead th {\n        text-align: right;\n    }\n</style>\n<table border=\"1\" class=\"dataframe\">\n  <thead>\n    <tr style=\"text-align: right;\">\n      <th></th>\n      <th>City Name</th>\n      <th>Longitude</th>\n      <th>Latitude</th>\n      <th>Max Temperature</th>\n      <th>Humidtiy</th>\n      <th>Cloud Coverage</th>\n      <th>Wind Speed</th>\n      <th>City Country</th>\n      <th>Date Time</th>\n    </tr>\n  </thead>\n  <tbody>\n    <tr>\n      <th>0</th>\n      <td>Hermanus</td>\n      <td>19.23</td>\n      <td>-34.42</td>\n      <td>50.00</td>\n      <td>91</td>\n      <td>100</td>\n      <td>11.32</td>\n      <td>ZA</td>\n      <td>1594342872</td>\n    </tr>\n    <tr>\n      <th>1</th>\n      <td>Khatanga</td>\n      <td>102.50</td>\n      <td>71.97</td>\n      <td>56.19</td>\n      <td>55</td>\n      <td>0</td>\n      <td>18.70</td>\n      <td>RU</td>\n      <td>1594342873</td>\n    </tr>\n    <tr>\n      <th>2</th>\n      <td>Iqaluit</td>\n      <td>-68.51</td>\n      <td>63.75</td>\n      <td>48.20</td>\n      <td>76</td>\n      <td>75</td>\n      <td>4.70</td>\n      <td>CA</td>\n      <td>1594342752</td>\n    </tr>\n    <tr>\n      <th>3</th>\n      <td>Yellowknife</td>\n      <td>-114.35</td>\n      <td>62.46</td>\n      <td>68.00</td>\n      <td>48</td>\n      <td>75</td>\n      <td>9.17</td>\n      <td>CA</td>\n      <td>1594342542</td>\n    </tr>\n    <tr>\n      <th>4</th>\n      <td>Katherine</td>\n      <td>132.27</td>\n      <td>-14.47</td>\n      <td>78.80</td>\n      <td>54</td>\n      <td>1</td>\n      <td>9.17</td>\n      <td>AU</td>\n      <td>1594342873</td>\n    </tr>\n  </tbody>\n</table>\n</div>"
     },
     "metadata": {},
     "execution_count": 6
    }
   ],
   "source": [
    "city_summary = pd.DataFrame({\"City Name\": name,\n",
    "                            \"Longitude\": lng,\n",
    "                            \"Latitude\": lat,\n",
    "                            \"Max Temperature\": maxtemp,\n",
    "                            \"Humidtiy\": humid,\n",
    "                            \"Cloud Coverage\": cloud,\n",
    "                            \"Wind Speed\": windspd,\n",
    "                            \"City Country\": country,\n",
    "                            \"Date Time\": datetime})\n",
    "city_summary.head()"
   ]
  },
  {
   "cell_type": "markdown",
   "metadata": {},
   "source": [
    "### Convert Raw Data to DataFrame\n",
    "* Export the city data into a .csv.\n",
    "* Display the DataFrame"
   ]
  },
  {
   "cell_type": "code",
   "execution_count": 7,
   "metadata": {},
   "outputs": [],
   "source": [
    "city_summary.to_csv(\"city_summary.csv\")"
   ]
  },
  {
   "cell_type": "code",
   "execution_count": 9,
   "metadata": {},
   "outputs": [
    {
     "output_type": "execute_result",
     "data": {
      "text/plain": "     Unnamed: 0          City Name  Longitude  Latitude  Max Temperature  \\\n0             0           Hermanus      19.23    -34.42            50.00   \n1             1           Khatanga     102.50     71.97            56.19   \n2             2            Iqaluit     -68.51     63.75            48.20   \n3             3        Yellowknife    -114.35     62.46            68.00   \n4             4          Katherine     132.27    -14.47            78.80   \n..          ...                ...        ...       ...              ...   \n572         572          Nishihara     127.76     26.18            87.80   \n573         573       Murdochville     -65.50     48.96            58.50   \n574         574  City of San Pedro     121.02     14.35            91.00   \n575         575        Lhokseumawe      97.15      5.18            78.44   \n576         576            Northam      -4.22     51.03            57.00   \n\n     Humidtiy  Cloud Coverage  Wind Speed City Country   Date Time  \n0          91             100       11.32           ZA  1594342872  \n1          55               0       18.70           RU  1594342873  \n2          76              75        4.70           CA  1594342752  \n3          48              75        9.17           CA  1594342542  \n4          54               1        9.17           AU  1594342873  \n..        ...             ...         ...          ...         ...  \n572        74              75       17.22           JP  1594343022  \n573        93               0        2.48           CA  1594343022  \n574        74              40        4.70           PH  1594343022  \n575        79              99        4.05           ID  1594343022  \n576        94               0        5.99           GB  1594343022  \n\n[577 rows x 10 columns]",
      "text/html": "<div>\n<style scoped>\n    .dataframe tbody tr th:only-of-type {\n        vertical-align: middle;\n    }\n\n    .dataframe tbody tr th {\n        vertical-align: top;\n    }\n\n    .dataframe thead th {\n        text-align: right;\n    }\n</style>\n<table border=\"1\" class=\"dataframe\">\n  <thead>\n    <tr style=\"text-align: right;\">\n      <th></th>\n      <th>Unnamed: 0</th>\n      <th>City Name</th>\n      <th>Longitude</th>\n      <th>Latitude</th>\n      <th>Max Temperature</th>\n      <th>Humidtiy</th>\n      <th>Cloud Coverage</th>\n      <th>Wind Speed</th>\n      <th>City Country</th>\n      <th>Date Time</th>\n    </tr>\n  </thead>\n  <tbody>\n    <tr>\n      <th>0</th>\n      <td>0</td>\n      <td>Hermanus</td>\n      <td>19.23</td>\n      <td>-34.42</td>\n      <td>50.00</td>\n      <td>91</td>\n      <td>100</td>\n      <td>11.32</td>\n      <td>ZA</td>\n      <td>1594342872</td>\n    </tr>\n    <tr>\n      <th>1</th>\n      <td>1</td>\n      <td>Khatanga</td>\n      <td>102.50</td>\n      <td>71.97</td>\n      <td>56.19</td>\n      <td>55</td>\n      <td>0</td>\n      <td>18.70</td>\n      <td>RU</td>\n      <td>1594342873</td>\n    </tr>\n    <tr>\n      <th>2</th>\n      <td>2</td>\n      <td>Iqaluit</td>\n      <td>-68.51</td>\n      <td>63.75</td>\n      <td>48.20</td>\n      <td>76</td>\n      <td>75</td>\n      <td>4.70</td>\n      <td>CA</td>\n      <td>1594342752</td>\n    </tr>\n    <tr>\n      <th>3</th>\n      <td>3</td>\n      <td>Yellowknife</td>\n      <td>-114.35</td>\n      <td>62.46</td>\n      <td>68.00</td>\n      <td>48</td>\n      <td>75</td>\n      <td>9.17</td>\n      <td>CA</td>\n      <td>1594342542</td>\n    </tr>\n    <tr>\n      <th>4</th>\n      <td>4</td>\n      <td>Katherine</td>\n      <td>132.27</td>\n      <td>-14.47</td>\n      <td>78.80</td>\n      <td>54</td>\n      <td>1</td>\n      <td>9.17</td>\n      <td>AU</td>\n      <td>1594342873</td>\n    </tr>\n    <tr>\n      <th>...</th>\n      <td>...</td>\n      <td>...</td>\n      <td>...</td>\n      <td>...</td>\n      <td>...</td>\n      <td>...</td>\n      <td>...</td>\n      <td>...</td>\n      <td>...</td>\n      <td>...</td>\n    </tr>\n    <tr>\n      <th>572</th>\n      <td>572</td>\n      <td>Nishihara</td>\n      <td>127.76</td>\n      <td>26.18</td>\n      <td>87.80</td>\n      <td>74</td>\n      <td>75</td>\n      <td>17.22</td>\n      <td>JP</td>\n      <td>1594343022</td>\n    </tr>\n    <tr>\n      <th>573</th>\n      <td>573</td>\n      <td>Murdochville</td>\n      <td>-65.50</td>\n      <td>48.96</td>\n      <td>58.50</td>\n      <td>93</td>\n      <td>0</td>\n      <td>2.48</td>\n      <td>CA</td>\n      <td>1594343022</td>\n    </tr>\n    <tr>\n      <th>574</th>\n      <td>574</td>\n      <td>City of San Pedro</td>\n      <td>121.02</td>\n      <td>14.35</td>\n      <td>91.00</td>\n      <td>74</td>\n      <td>40</td>\n      <td>4.70</td>\n      <td>PH</td>\n      <td>1594343022</td>\n    </tr>\n    <tr>\n      <th>575</th>\n      <td>575</td>\n      <td>Lhokseumawe</td>\n      <td>97.15</td>\n      <td>5.18</td>\n      <td>78.44</td>\n      <td>79</td>\n      <td>99</td>\n      <td>4.05</td>\n      <td>ID</td>\n      <td>1594343022</td>\n    </tr>\n    <tr>\n      <th>576</th>\n      <td>576</td>\n      <td>Northam</td>\n      <td>-4.22</td>\n      <td>51.03</td>\n      <td>57.00</td>\n      <td>94</td>\n      <td>0</td>\n      <td>5.99</td>\n      <td>GB</td>\n      <td>1594343022</td>\n    </tr>\n  </tbody>\n</table>\n<p>577 rows × 10 columns</p>\n</div>"
     },
     "metadata": {},
     "execution_count": 9
    }
   ],
   "source": [
    "city_sum_path = \"city_summary.csv\"\n",
    "city_sum_csv = pd.read_csv(city_sum_path)\n",
    "city_sum_csv"
   ]
  },
  {
   "cell_type": "markdown",
   "metadata": {},
   "source": [
    "## Inspect the data and remove the cities where the humidity > 100%.\n",
    "----\n",
    "Skip this step if there are no cities that have humidity > 100%. "
   ]
  },
  {
   "cell_type": "code",
   "execution_count": null,
   "metadata": {},
   "outputs": [],
   "source": []
  },
  {
   "cell_type": "code",
   "execution_count": null,
   "metadata": {},
   "outputs": [],
   "source": [
    "#  Get the indices of cities that have humidity over 100%.\n"
   ]
  },
  {
   "cell_type": "code",
   "execution_count": null,
   "metadata": {},
   "outputs": [],
   "source": [
    "# Make a new DataFrame equal to the city data to drop all humidity outliers by index.\n",
    "# Passing \"inplace=False\" will make a copy of the city_data DataFrame, which we call \"clean_city_data\".\n"
   ]
  },
  {
   "cell_type": "code",
   "execution_count": null,
   "metadata": {},
   "outputs": [],
   "source": [
    "# Extract relevant fields from the data frame\n",
    "\n",
    "\n",
    "# Export the City_Data into a csv\n"
   ]
  },
  {
   "cell_type": "markdown",
   "metadata": {},
   "source": [
    "## Plotting the Data\n",
    "* Use proper labeling of the plots using plot titles (including date of analysis) and axes labels.\n",
    "* Save the plotted figures as .pngs."
   ]
  },
  {
   "cell_type": "markdown",
   "metadata": {},
   "source": [
    "## Latitude vs. Temperature Plot"
   ]
  },
  {
   "cell_type": "code",
   "execution_count": null,
   "metadata": {
    "scrolled": true
   },
   "outputs": [],
   "source": []
  },
  {
   "cell_type": "markdown",
   "metadata": {},
   "source": [
    "## Latitude vs. Humidity Plot"
   ]
  },
  {
   "cell_type": "code",
   "execution_count": null,
   "metadata": {},
   "outputs": [],
   "source": []
  },
  {
   "cell_type": "markdown",
   "metadata": {},
   "source": [
    "## Latitude vs. Cloudiness Plot"
   ]
  },
  {
   "cell_type": "code",
   "execution_count": null,
   "metadata": {},
   "outputs": [],
   "source": []
  },
  {
   "cell_type": "markdown",
   "metadata": {},
   "source": [
    "## Latitude vs. Wind Speed Plot"
   ]
  },
  {
   "cell_type": "code",
   "execution_count": null,
   "metadata": {},
   "outputs": [],
   "source": []
  },
  {
   "cell_type": "markdown",
   "metadata": {},
   "source": [
    "## Linear Regression"
   ]
  },
  {
   "cell_type": "code",
   "execution_count": null,
   "metadata": {},
   "outputs": [],
   "source": [
    "# OPTIONAL: Create a function to create Linear Regression plots"
   ]
  },
  {
   "cell_type": "code",
   "execution_count": null,
   "metadata": {},
   "outputs": [],
   "source": [
    "# Create Northern and Southern Hemisphere DataFrames"
   ]
  },
  {
   "cell_type": "markdown",
   "metadata": {},
   "source": [
    "####  Northern Hemisphere - Max Temp vs. Latitude Linear Regression"
   ]
  },
  {
   "cell_type": "code",
   "execution_count": null,
   "metadata": {},
   "outputs": [],
   "source": []
  },
  {
   "cell_type": "markdown",
   "metadata": {},
   "source": [
    "####  Southern Hemisphere - Max Temp vs. Latitude Linear Regression"
   ]
  },
  {
   "cell_type": "code",
   "execution_count": null,
   "metadata": {},
   "outputs": [],
   "source": []
  },
  {
   "cell_type": "markdown",
   "metadata": {},
   "source": [
    "####  Northern Hemisphere - Humidity (%) vs. Latitude Linear Regression"
   ]
  },
  {
   "cell_type": "code",
   "execution_count": null,
   "metadata": {},
   "outputs": [],
   "source": []
  },
  {
   "cell_type": "markdown",
   "metadata": {},
   "source": [
    "####  Southern Hemisphere - Humidity (%) vs. Latitude Linear Regression"
   ]
  },
  {
   "cell_type": "code",
   "execution_count": null,
   "metadata": {},
   "outputs": [],
   "source": []
  },
  {
   "cell_type": "markdown",
   "metadata": {},
   "source": [
    "####  Northern Hemisphere - Cloudiness (%) vs. Latitude Linear Regression"
   ]
  },
  {
   "cell_type": "code",
   "execution_count": null,
   "metadata": {},
   "outputs": [],
   "source": []
  },
  {
   "cell_type": "markdown",
   "metadata": {},
   "source": [
    "####  Southern Hemisphere - Cloudiness (%) vs. Latitude Linear Regression"
   ]
  },
  {
   "cell_type": "code",
   "execution_count": null,
   "metadata": {},
   "outputs": [],
   "source": []
  },
  {
   "cell_type": "markdown",
   "metadata": {},
   "source": [
    "####  Northern Hemisphere - Wind Speed (mph) vs. Latitude Linear Regression"
   ]
  },
  {
   "cell_type": "code",
   "execution_count": null,
   "metadata": {},
   "outputs": [],
   "source": []
  },
  {
   "cell_type": "markdown",
   "metadata": {},
   "source": [
    "####  Southern Hemisphere - Wind Speed (mph) vs. Latitude Linear Regression"
   ]
  },
  {
   "cell_type": "code",
   "execution_count": null,
   "metadata": {},
   "outputs": [],
   "source": []
  },
  {
   "cell_type": "code",
   "execution_count": null,
   "metadata": {},
   "outputs": [],
   "source": []
  }
 ],
 "metadata": {
  "anaconda-cloud": {},
  "kernel_info": {
   "name": "python3"
  },
  "kernelspec": {
   "display_name": "Python 3.6.10 64-bit ('PythonData': conda)",
   "language": "python",
   "name": "python361064bitpythondatacondae5997a2e410345aaa38bb48a893dd3cc"
  },
  "language_info": {
   "codemirror_mode": {
    "name": "ipython",
    "version": 3
   },
   "file_extension": ".py",
   "mimetype": "text/x-python",
   "name": "python",
   "nbconvert_exporter": "python",
   "pygments_lexer": "ipython3",
   "version": "3.6.10-final"
  },
  "latex_envs": {
   "LaTeX_envs_menu_present": true,
   "autoclose": false,
   "autocomplete": true,
   "bibliofile": "biblio.bib",
   "cite_by": "apalike",
   "current_citInitial": 1,
   "eqLabelWithNumbers": true,
   "eqNumInitial": 1,
   "hotkeys": {
    "equation": "Ctrl-E",
    "itemize": "Ctrl-I"
   },
   "labels_anchors": false,
   "latex_user_defs": false,
   "report_style_numbering": false,
   "user_envs_cfg": false
  },
  "nteract": {
   "version": "0.12.3"
  }
 },
 "nbformat": 4,
 "nbformat_minor": 2
}